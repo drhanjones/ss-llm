{
 "cells": [
  {
   "cell_type": "code",
   "execution_count": 1,
   "metadata": {
    "collapsed": true
   },
   "outputs": [],
   "source": [
    "import os\n",
    "import numpy as np\n",
    "import pickle\n",
    "from nltk.util import bigrams, trigrams\n",
    "from nltk.lm import MLE, Laplace\n",
    "from tqdm import tqdm\n",
    "import torch\n",
    "from collections import Counter\n",
    "import math"
   ]
  },
  {
   "cell_type": "code",
   "execution_count": 2,
   "outputs": [
    {
     "name": "stdout",
     "output_type": "stream",
     "text": [
      "found vocab_size = 8000 (inside /home/abishekthamma/PycharmProjects/masters_thesis/ss-llm/nanoGPT/data/babylm_full_bpe_8k/meta.pkl)\n"
     ]
    }
   ],
   "source": [
    "dataset_root = r'/home/abishekthamma/PycharmProjects/masters_thesis/ss-llm/nanoGPT/data'\n",
    "dataset_name = 'babylm_full_bpe_8k'\n",
    "\n",
    "data_dir = os.path.join(dataset_root, dataset_name)\n",
    "\n",
    "train_data = np.memmap(os.path.join(data_dir, 'train.bin'), dtype=np.uint16, mode='r')\n",
    "val_data = np.memmap(os.path.join(data_dir, 'val.bin'), dtype=np.uint16, mode='r')\n",
    "\n",
    "\n",
    "meta_path = os.path.join(data_dir, 'meta.pkl')\n",
    "meta_vocab_size = None\n",
    "if os.path.exists(meta_path):\n",
    "    with open(meta_path, 'rb') as f:\n",
    "        meta = pickle.load(f)\n",
    "    meta_vocab_size = meta.get('vocab_size', None)\n",
    "    if meta_vocab_size:\n",
    "        print(f\"found vocab_size = {meta_vocab_size} (inside {meta_path})\")"
   ],
   "metadata": {
    "collapsed": false
   }
  },
  {
   "cell_type": "code",
   "execution_count": 4,
   "outputs": [
    {
     "ename": "KeyboardInterrupt",
     "evalue": "",
     "output_type": "error",
     "traceback": [
      "\u001B[0;31m---------------------------------------------------------------------------\u001B[0m",
      "\u001B[0;31mKeyboardInterrupt\u001B[0m                         Traceback (most recent call last)",
      "Cell \u001B[0;32mIn[4], line 2\u001B[0m\n\u001B[1;32m      1\u001B[0m train_bigrams \u001B[38;5;241m=\u001B[39m bigrams(train_data)\n\u001B[0;32m----> 2\u001B[0m train_bigram_counts \u001B[38;5;241m=\u001B[39m \u001B[43mCounter\u001B[49m\u001B[43m(\u001B[49m\u001B[43mtrain_bigrams\u001B[49m\u001B[43m)\u001B[49m\n\u001B[1;32m      3\u001B[0m val_bigrams \u001B[38;5;241m=\u001B[39m bigrams(val_data)\n\u001B[1;32m      4\u001B[0m val_bigrams_counts \u001B[38;5;241m=\u001B[39m Counter(val_bigrams)\n",
      "File \u001B[0;32m/usr/lib/python3.9/collections/__init__.py:593\u001B[0m, in \u001B[0;36mCounter.__init__\u001B[0;34m(self, iterable, **kwds)\u001B[0m\n\u001B[1;32m    582\u001B[0m \u001B[38;5;250m\u001B[39m\u001B[38;5;124;03m'''Create a new, empty Counter object.  And if given, count elements\u001B[39;00m\n\u001B[1;32m    583\u001B[0m \u001B[38;5;124;03mfrom an input iterable.  Or, initialize the count from another mapping\u001B[39;00m\n\u001B[1;32m    584\u001B[0m \u001B[38;5;124;03mof elements to their counts.\u001B[39;00m\n\u001B[0;32m   (...)\u001B[0m\n\u001B[1;32m    590\u001B[0m \n\u001B[1;32m    591\u001B[0m \u001B[38;5;124;03m'''\u001B[39;00m\n\u001B[1;32m    592\u001B[0m \u001B[38;5;28msuper\u001B[39m()\u001B[38;5;241m.\u001B[39m\u001B[38;5;21m__init__\u001B[39m()\n\u001B[0;32m--> 593\u001B[0m \u001B[38;5;28;43mself\u001B[39;49m\u001B[38;5;241;43m.\u001B[39;49m\u001B[43mupdate\u001B[49m\u001B[43m(\u001B[49m\u001B[43miterable\u001B[49m\u001B[43m,\u001B[49m\u001B[43m \u001B[49m\u001B[38;5;241;43m*\u001B[39;49m\u001B[38;5;241;43m*\u001B[39;49m\u001B[43mkwds\u001B[49m\u001B[43m)\u001B[49m\n",
      "File \u001B[0;32m/usr/lib/python3.9/collections/__init__.py:679\u001B[0m, in \u001B[0;36mCounter.update\u001B[0;34m(self, iterable, **kwds)\u001B[0m\n\u001B[1;32m    677\u001B[0m             \u001B[38;5;28msuper\u001B[39m()\u001B[38;5;241m.\u001B[39mupdate(iterable)\n\u001B[1;32m    678\u001B[0m     \u001B[38;5;28;01melse\u001B[39;00m:\n\u001B[0;32m--> 679\u001B[0m         \u001B[43m_count_elements\u001B[49m\u001B[43m(\u001B[49m\u001B[38;5;28;43mself\u001B[39;49m\u001B[43m,\u001B[49m\u001B[43m \u001B[49m\u001B[43miterable\u001B[49m\u001B[43m)\u001B[49m\n\u001B[1;32m    680\u001B[0m \u001B[38;5;28;01mif\u001B[39;00m kwds:\n\u001B[1;32m    681\u001B[0m     \u001B[38;5;28mself\u001B[39m\u001B[38;5;241m.\u001B[39mupdate(kwds)\n",
      "File \u001B[0;32m~/PycharmProjects/masters_thesis/mt1/lib/python3.9/site-packages/nltk/util.py:887\u001B[0m, in \u001B[0;36mbigrams\u001B[0;34m(sequence, **kwargs)\u001B[0m\n\u001B[1;32m    871\u001B[0m \u001B[38;5;28;01mdef\u001B[39;00m \u001B[38;5;21mbigrams\u001B[39m(sequence, \u001B[38;5;241m*\u001B[39m\u001B[38;5;241m*\u001B[39mkwargs):\n\u001B[1;32m    872\u001B[0m \u001B[38;5;250m    \u001B[39m\u001B[38;5;124;03m\"\"\"\u001B[39;00m\n\u001B[1;32m    873\u001B[0m \u001B[38;5;124;03m    Return the bigrams generated from a sequence of items, as an iterator.\u001B[39;00m\n\u001B[1;32m    874\u001B[0m \u001B[38;5;124;03m    For example:\u001B[39;00m\n\u001B[0;32m   (...)\u001B[0m\n\u001B[1;32m    884\u001B[0m \u001B[38;5;124;03m    :rtype: iter(tuple)\u001B[39;00m\n\u001B[1;32m    885\u001B[0m \u001B[38;5;124;03m    \"\"\"\u001B[39;00m\n\u001B[0;32m--> 887\u001B[0m     \u001B[38;5;28;01myield from\u001B[39;00m ngrams(sequence, \u001B[38;5;241m2\u001B[39m, \u001B[38;5;241m*\u001B[39m\u001B[38;5;241m*\u001B[39mkwargs)\n",
      "File \u001B[0;32m~/PycharmProjects/masters_thesis/mt1/lib/python3.9/site-packages/numpy/core/memmap.py:334\u001B[0m, in \u001B[0;36mmemmap.__getitem__\u001B[0;34m(self, index)\u001B[0m\n\u001B[1;32m    331\u001B[0m     \u001B[38;5;66;03m# Return ndarray otherwise\u001B[39;00m\n\u001B[1;32m    332\u001B[0m     \u001B[38;5;28;01mreturn\u001B[39;00m arr\u001B[38;5;241m.\u001B[39mview(np\u001B[38;5;241m.\u001B[39mndarray)\n\u001B[0;32m--> 334\u001B[0m \u001B[38;5;28;01mdef\u001B[39;00m \u001B[38;5;21m__getitem__\u001B[39m(\u001B[38;5;28mself\u001B[39m, index):\n\u001B[1;32m    335\u001B[0m     res \u001B[38;5;241m=\u001B[39m \u001B[38;5;28msuper\u001B[39m()\u001B[38;5;241m.\u001B[39m\u001B[38;5;21m__getitem__\u001B[39m(index)\n\u001B[1;32m    336\u001B[0m     \u001B[38;5;28;01mif\u001B[39;00m \u001B[38;5;28mtype\u001B[39m(res) \u001B[38;5;129;01mis\u001B[39;00m memmap \u001B[38;5;129;01mand\u001B[39;00m res\u001B[38;5;241m.\u001B[39m_mmap \u001B[38;5;129;01mis\u001B[39;00m \u001B[38;5;28;01mNone\u001B[39;00m:\n",
      "\u001B[0;31mKeyboardInterrupt\u001B[0m: "
     ]
    }
   ],
   "source": [
    "train_bigrams = bigrams(train_data)\n",
    "train_bigram_counts = Counter(train_bigrams)\n",
    "val_bigrams = bigrams(val_data)\n",
    "val_bigrams_counts = Counter(val_bigrams)\n",
    "train_trigrams = trigrams(train_data)\n",
    "train_trigram_counts = Counter(train_trigrams)\n",
    "val_trigrams = trigrams(val_data)\n",
    "val_trigrams_counts = Counter(val_trigrams)\n"
   ],
   "metadata": {
    "collapsed": false
   }
  },
  {
   "cell_type": "code",
   "execution_count": 74,
   "outputs": [
    {
     "data": {
      "text/plain": "[((14, 133), 98191),\n ((202, 173), 50943),\n ((12, 207), 45365),\n ((203, 173), 44553),\n ((14, 47), 37822)]"
     },
     "execution_count": 74,
     "metadata": {},
     "output_type": "execute_result"
    }
   ],
   "source": [
    "train_bigram_counts.most_common(5)"
   ],
   "metadata": {
    "collapsed": false
   }
  },
  {
   "cell_type": "code",
   "execution_count": 3,
   "outputs": [],
   "source": [
    "def prepare_bigram_probs(bigrams_counts, vocab_size):\n",
    "    bigram_arr = torch.zeros((vocab_size, vocab_size), dtype=torch.int32)\n",
    "    for k,v in bigrams_counts.items():\n",
    "        bigram_arr[k[1], k[0]] = v\n",
    "\n",
    "    bigram_prob = (bigram_arr+1).float()\n",
    "    bigram_probs = bigram_prob /bigram_prob.sum(1, keepdim=True)\n",
    "\n",
    "    return bigram_probs\n",
    "\n",
    "def prepare_trigram_probs(trigrams, bigrams, vocab_size):\n",
    "\n",
    "    trigram_counts = Counter(trigrams)\n",
    "    bigram_counts = Counter(bigrams)\n",
    "    trigram_probs = {}\n",
    "\n",
    "    for k,v in tqdm(trigram_counts.items()):\n",
    "        trigram_probs[k] = float(v+1)/(bigram_counts[(k[0], k[1])]+vocab_size)\n",
    "\n",
    "    return trigram_probs\n",
    "\n",
    "\n",
    "\n",
    "train_bigram_probs = prepare_bigram_probs(train_bigram_counts, meta_vocab_size)\n",
    "val_bigram_probs = prepare_bigram_probs(val_bigrams_counts, meta_vocab_size)\n",
    "\n",
    "train_trigram_probs = prepare_trigram_probs(trigrams(train_data), bigrams(train_data), meta_vocab_size)\n",
    "val_trigram_probs = prepare_trigram_probs(trigrams(val_data), bigrams(val_data), meta_vocab_size)\n",
    "\n",
    "\n",
    "\n",
    "\n",
    "\n",
    "# train_bigram_arr = torch.zeros((meta_vocab_size, meta_vocab_size), dtype=torch.int32)\n",
    "# val_bigram_arr = torch.zeros((meta_vocab_size, meta_vocab_size), dtype=torch.int32)\n",
    "# for k,v in train_bigram_counts.items():\n",
    "#     train_bigram_arr[k[0], k[1]] = v\n",
    "# for k,v in val_bigrams_counts.items():\n",
    "#     val_bigram_arr[k[0], k[1]] = v\n",
    "# train_bigram_probs = (train_bigram_arr+1).float()\n",
    "# train_probs = train_bigram_probs /train_bigram_probs.sum(1, keepdim=True)\n",
    "# val_bigram_probs = (val_bigram_arr+1).float()\n",
    "# val_probs = val_bigram_probs/val_bigram_probs.sum(1, keepdim=True)"
   ],
   "metadata": {
    "collapsed": false
   }
  },
  {
   "cell_type": "code",
   "execution_count": 4,
   "outputs": [],
   "source": [
    "def calculate_bigram_loss(probs, corpus):\n",
    "    loss = 0\n",
    "    counts = 0\n",
    "    for i in tqdm(range(1, len(corpus))):\n",
    "        loss += -torch.log(probs[corpus[i], corpus[i-1]])\n",
    "        counts += 1\n",
    "    return loss/counts\n",
    "\n",
    "def calculate_trigram_loss(probs, corpus, vocab_size):\n",
    "    loss = 0\n",
    "    counts = 0\n",
    "    for i in tqdm(range(2, len(corpus))):\n",
    "        trigram_probs = probs.get((corpus[i-2], corpus[i-1], corpus[i]), 1/vocab_size)\n",
    "        loss += -math.log(trigram_probs)\n",
    "        counts += 1\n",
    "    return loss/counts\n",
    "\n",
    "def calculate_loss(probabilities, corpus, loss_type = 'bigram', vocab_size = None):\n",
    "\n",
    "    if loss_type == 'bigram':\n",
    "        return calculate_bigram_loss(probabilities, corpus)\n",
    "    elif loss_type == 'trigram':\n",
    "        if not vocab_size:\n",
    "            raise Exception\n",
    "        return calculate_trigram_loss(probabilities, corpus, vocab_size)\n",
    "    else:\n",
    "        raise ValueError(f\"Invalid loss type {loss_type}\")\n"
   ],
   "metadata": {
    "collapsed": false
   }
  },
  {
   "cell_type": "code",
   "execution_count": 78,
   "outputs": [
    {
     "name": "stderr",
     "output_type": "stream",
     "text": [
      "100%|██████████| 14545184/14545184 [02:32<00:00, 95382.87it/s]"
     ]
    },
    {
     "name": "stdout",
     "output_type": "stream",
     "text": [
      "bigram_loss = 5.702608585357666 \n"
     ]
    },
    {
     "name": "stderr",
     "output_type": "stream",
     "text": [
      "\n"
     ]
    }
   ],
   "source": [
    "train_bigrams_loss = calculate_loss(train_bigram_probs, train_data, loss_type=\"bigram\")\n",
    "print(f\"bigram_train_loss = {train_bigrams_loss} \")"
   ],
   "metadata": {
    "collapsed": false
   }
  },
  {
   "cell_type": "code",
   "execution_count": 79,
   "outputs": [
    {
     "name": "stderr",
     "output_type": "stream",
     "text": [
      "100%|██████████| 13921893/13921893 [02:27<00:00, 94094.05it/s]\n"
     ]
    },
    {
     "name": "stdout",
     "output_type": "stream",
     "text": [
      "bigram_val_loss = 5.8382182121276855 \n"
     ]
    },
    {
     "name": "stderr",
     "output_type": "stream",
     "text": [
      "100%|██████████| 14545183/14545183 [00:26<00:00, 549868.77it/s]\n"
     ]
    },
    {
     "name": "stdout",
     "output_type": "stream",
     "text": [
      "trigram train _loss = 6.911967814899822 \n"
     ]
    },
    {
     "name": "stderr",
     "output_type": "stream",
     "text": [
      "100%|██████████| 13921892/13921892 [00:25<00:00, 538980.13it/s]"
     ]
    },
    {
     "name": "stdout",
     "output_type": "stream",
     "text": [
      "trigram_val_loss = 7.324238471596719 \n"
     ]
    },
    {
     "name": "stderr",
     "output_type": "stream",
     "text": [
      "\n"
     ]
    }
   ],
   "source": [
    "val_bigrams_loss = calculate_loss(train_bigram_probs, val_data, loss_type=\"bigram\")\n",
    "print(f\"bigram_val_loss = {val_bigrams_loss} \")\n",
    "\n",
    "train_trigrams_loss = calculate_loss(train_trigram_probs, train_data, loss_type=\"trigram\", vocab_size=meta_vocab_size)\n",
    "print(f\"trigram train _loss = {train_trigrams_loss} \")\n",
    "\n",
    "train_bigrams_loss = calculate_loss(train_trigram_probs, val_data, loss_type=\"trigram\", vocab_size=meta_vocab_size)\n",
    "print(f\"trigram_val_loss = {train_bigrams_loss} \")\n"
   ],
   "metadata": {
    "collapsed": false
   }
  },
  {
   "cell_type": "code",
   "execution_count": 6,
   "outputs": [
    {
     "data": {
      "text/plain": "<Figure size 640x480 with 1 Axes>",
      "image/png": "[encoded data removed]"
     },
     "metadata": {},
     "output_type": "display_data"
    }
   ],
   "source": [
    "#plot probability distribution of 1 word\n",
    "\n",
    "import matplotlib.pyplot as plt\n",
    "plt.plot(train_bigram_probs[7220].numpy())\n",
    "plt.show()\n"
   ],
   "metadata": {
    "collapsed": false
   }
  },
  {
   "cell_type": "code",
   "execution_count": 9,
   "outputs": [
    {
     "name": "stderr",
     "output_type": "stream",
     "text": [
      "100%|██████████| 923/923 [00:00<00:00, 625014.95it/s]\n",
      "100%|██████████| 999/999 [00:00<00:00, 65592.42it/s]\n"
     ]
    },
    {
     "name": "stdout",
     "output_type": "stream",
     "text": [
      "bigram_test_loss = 5.205868244171143 \n"
     ]
    },
    {
     "name": "stderr",
     "output_type": "stream",
     "text": [
      "100%|██████████| 998/998 [00:00<00:00, 890620.30it/s]"
     ]
    },
    {
     "name": "stdout",
     "output_type": "stream",
     "text": [
      "trigram_test_loss = 5.34031715983772 \n"
     ]
    },
    {
     "name": "stderr",
     "output_type": "stream",
     "text": [
      "\n"
     ]
    }
   ],
   "source": [
    "#convert dataset to list of strings\n",
    "testing_subset = train_data[:1000]\n",
    "ts_vocab_size = len(set(testing_subset))\n",
    "\n",
    "#map values as 0 to vocab_size\n",
    "itos_mapper = {}\n",
    "for i in testing_subset:\n",
    "    itos_mapper[i] = itos_mapper.get(i, len(itos_mapper))\n",
    "\n",
    "testing_subset = [itos_mapper[i] for i in testing_subset]\n",
    "\n",
    "\n",
    "ts_bigrams = bigrams(testing_subset)\n",
    "ts_bigram_counts = Counter(ts_bigrams)\n",
    "ts_trigrams = trigrams(testing_subset)\n",
    "ts_trigram_counts = Counter(ts_trigrams)\n",
    "\n",
    "ts_bigram_probs = prepare_bigram_probs(ts_bigram_counts, ts_vocab_size)\n",
    "ts_trigram_probs = prepare_trigram_probs(trigrams(testing_subset), bigrams(testing_subset), ts_vocab_size)\n",
    "\n",
    "ts_bigram_loss = calculate_loss(ts_bigram_probs, testing_subset, loss_type=\"bigram\")\n",
    "print(f\"bigram_test_loss = {ts_bigram_loss} \")\n",
    "\n",
    "ts_trigram_loss = calculate_loss(ts_trigram_probs, testing_subset, loss_type=\"trigram\", vocab_size=ts_vocab_size)\n",
    "print(f\"trigram_test_loss = {ts_trigram_loss} \")\n",
    "\n"
   ],
   "metadata": {
    "collapsed": false
   }
  },
  {
   "cell_type": "code",
   "execution_count": 10,
   "outputs": [
    {
     "data": {
      "text/plain": "[0,\n 1,\n 2,\n 3,\n 4,\n 5,\n 6,\n 7,\n 8,\n 9,\n 10,\n 11,\n 12,\n 13,\n 14,\n 15,\n 16,\n 17,\n 18,\n 19,\n 20,\n 2,\n 21,\n 15,\n 22,\n 23,\n 24,\n 25,\n 26,\n 27,\n 28,\n 29,\n 30,\n 16,\n 31,\n 17,\n 32,\n 33,\n 34,\n 35,\n 36,\n 37,\n 38,\n 25,\n 39,\n 40,\n 41,\n 42,\n 43,\n 22,\n 44,\n 15,\n 16,\n 45,\n 31,\n 46,\n 47,\n 48,\n 15,\n 22,\n 49,\n 8,\n 16,\n 50,\n 51,\n 52,\n 53,\n 54,\n 55,\n 56,\n 57,\n 22,\n 25,\n 58,\n 59,\n 3,\n 60,\n 61,\n 62,\n 63,\n 30,\n 16,\n 17,\n 64,\n 65,\n 66,\n 67,\n 47,\n 25,\n 68,\n 69,\n 70,\n 30,\n 71,\n 3,\n 72,\n 73,\n 22,\n 74,\n 75,\n 8,\n 76,\n 77,\n 15,\n 78,\n 79,\n 78,\n 79,\n 80,\n 81,\n 82,\n 83,\n 84,\n 85,\n 86,\n 87,\n 88,\n 89,\n 69,\n 90,\n 91,\n 92,\n 93,\n 94,\n 69,\n 90,\n 91,\n 92,\n 8,\n 31,\n 95,\n 23,\n 25,\n 88,\n 96,\n 97,\n 69,\n 23,\n 98,\n 99,\n 72,\n 100,\n 94,\n 69,\n 23,\n 13,\n 101,\n 102,\n 15,\n 103,\n 72,\n 23,\n 104,\n 94,\n 105,\n 106,\n 107,\n 98,\n 69,\n 23,\n 108,\n 109,\n 110,\n 111,\n 112,\n 15,\n 113,\n 114,\n 115,\n 116,\n 8,\n 23,\n 117,\n 118,\n 8,\n 72,\n 23,\n 104,\n 118,\n 119,\n 22,\n 23,\n 101,\n 102,\n 15,\n 120,\n 121,\n 122,\n 123,\n 23,\n 94,\n 15,\n 124,\n 23,\n 125,\n 69,\n 126,\n 127,\n 8,\n 23,\n 117,\n 128,\n 129,\n 1,\n 130,\n 131,\n 132,\n 133,\n 134,\n 123,\n 135,\n 136,\n 15,\n 137,\n 23,\n 138,\n 139,\n 69,\n 140,\n 126,\n 127,\n 8,\n 23,\n 117,\n 141,\n 69,\n 23,\n 98,\n 142,\n 143,\n 137,\n 144,\n 145,\n 146,\n 118,\n 113,\n 114,\n 115,\n 116,\n 8,\n 147,\n 143,\n 148,\n 149,\n 150,\n 8,\n 136,\n 15,\n 22,\n 151,\n 8,\n 152,\n 153,\n 154,\n 155,\n 8,\n 156,\n 157,\n 158,\n 22,\n 159,\n 142,\n 15,\n 160,\n 161,\n 162,\n 163,\n 123,\n 23,\n 164,\n 165,\n 69,\n 149,\n 150,\n 8,\n 23,\n 166,\n 167,\n 82,\n 168,\n 169,\n 136,\n 170,\n 171,\n 132,\n 147,\n 143,\n 15,\n 172,\n 132,\n 173,\n 23,\n 142,\n 69,\n 174,\n 118,\n 175,\n 176,\n 177,\n 178,\n 15,\n 178,\n 72,\n 179,\n 137,\n 129,\n 1,\n 180,\n 181,\n 182,\n 183,\n 184,\n 185,\n 96,\n 186,\n 56,\n 128,\n 187,\n 188,\n 189,\n 190,\n 191,\n 192,\n 193,\n 194,\n 195,\n 196,\n 197,\n 15,\n 198,\n 199,\n 200,\n 201,\n 202,\n 154,\n 203,\n 8,\n 204,\n 15,\n 22,\n 205,\n 140,\n 133,\n 200,\n 206,\n 207,\n 208,\n 123,\n 209,\n 8,\n 210,\n 141,\n 134,\n 123,\n 211,\n 212,\n 172,\n 213,\n 154,\n 23,\n 214,\n 15,\n 215,\n 72,\n 100,\n 216,\n 217,\n 218,\n 219,\n 148,\n 220,\n 221,\n 222,\n 8,\n 136,\n 47,\n 223,\n 224,\n 15,\n 225,\n 11,\n 226,\n 227,\n 167,\n 228,\n 229,\n 8,\n 136,\n 15,\n 23,\n 117,\n 200,\n 230,\n 231,\n 225,\n 11,\n 232,\n 115,\n 116,\n 233,\n 23,\n 129,\n 234,\n 153,\n 235,\n 236,\n 237,\n 23,\n 200,\n 152,\n 153,\n 15,\n 23,\n 117,\n 200,\n 238,\n 239,\n 143,\n 240,\n 123,\n 149,\n 150,\n 15,\n 93,\n 94,\n 15,\n 116,\n 223,\n 241,\n 8,\n 126,\n 127,\n 8,\n 115,\n 116,\n 2,\n 242,\n 159,\n 243,\n 244,\n 149,\n 150,\n 123,\n 245,\n 23,\n 129,\n 234,\n 132,\n 246,\n 147,\n 143,\n 148,\n 90,\n 92,\n 15,\n 159,\n 247,\n 95,\n 38,\n 248,\n 249,\n 250,\n 251,\n 252,\n 121,\n 123,\n 253,\n 100,\n 254,\n 255,\n 256,\n 257,\n 258,\n 259,\n 260,\n 47,\n 23,\n 129,\n 234,\n 128,\n 261,\n 262,\n 244,\n 199,\n 263,\n 15,\n 23,\n 264,\n 69,\n 115,\n 116,\n 91,\n 200,\n 265,\n 261,\n 244,\n 23,\n 266,\n 15,\n 116,\n 223,\n 267,\n 8,\n 251,\n 252,\n 121,\n 91,\n 254,\n 255,\n 256,\n 257,\n 258,\n 259,\n 260,\n 268,\n 23,\n 129,\n 1,\n 141,\n 15,\n 103,\n 269,\n 23,\n 117,\n 141,\n 12,\n 270,\n 271,\n 15,\n 23,\n 272,\n 130,\n 131,\n 273,\n 274,\n 197,\n 275,\n 22,\n 23,\n 276,\n 128,\n 277,\n 278,\n 90,\n 91,\n 92,\n 15,\n 279,\n 280,\n 281,\n 69,\n 282,\n 128,\n 283,\n 284,\n 285,\n 286,\n 47,\n 133,\n 287,\n 8,\n 23,\n 117,\n 200,\n 288,\n 289,\n 15,\n 251,\n 290,\n 291,\n 121,\n 91,\n 261,\n 153,\n 148,\n 104,\n 292,\n 293,\n 294,\n 8,\n 231,\n 295,\n 296,\n 232,\n 152,\n 297,\n 298,\n 23,\n 129,\n 1,\n 299,\n 300,\n 301,\n 302,\n 38,\n 303,\n 243,\n 128,\n 269,\n 262,\n 123,\n 304,\n 305,\n 306,\n 307,\n 308,\n 309,\n 310,\n 15,\n 311,\n 312,\n 23,\n 129,\n 234,\n 313,\n 23,\n 117,\n 314,\n 128,\n 315,\n 123,\n 316,\n 317,\n 318,\n 319,\n 312,\n 15,\n 320,\n 23,\n 94,\n 8,\n 115,\n 116,\n 72,\n 119,\n 128,\n 174,\n 321,\n 322,\n 323,\n 15,\n 175,\n 324,\n 325,\n 326,\n 327,\n 328,\n 15,\n 84,\n 329,\n 8,\n 251,\n 252,\n 121,\n 91,\n 330,\n 153,\n 331,\n 328,\n 23,\n 271,\n 128,\n 159,\n 200,\n 132,\n 332,\n 143,\n 15,\n 279,\n 23,\n 333,\n 261,\n 148,\n 154,\n 334,\n 87,\n 157,\n 335,\n 8,\n 23,\n 129,\n 234,\n 288,\n 289,\n 15,\n 336,\n 159,\n 335,\n 337,\n 338,\n 339,\n 340,\n 128,\n 159,\n 341,\n 342,\n 343,\n 152,\n 288,\n 289,\n 123,\n 149,\n 150,\n 15,\n 305,\n 344,\n 345,\n 346,\n 123,\n 347,\n 8,\n 23,\n 129,\n 1,\n 141,\n 348,\n 349,\n 350,\n 351,\n 15,\n 352,\n 353,\n 8,\n 103,\n 72,\n 100,\n 354,\n 38,\n 23,\n 129,\n 1,\n 141,\n 355,\n 23,\n 117,\n 141,\n 356,\n 23,\n 357,\n 15,\n 358,\n 8,\n 103,\n 83,\n 359,\n 360,\n 100,\n 354,\n 38,\n 23,\n 117,\n 355,\n 172,\n 361,\n 362,\n 135,\n 69,\n 136,\n 15,\n 23,\n 129,\n 1,\n 141,\n 95,\n 23,\n 94,\n 69,\n 90,\n 363,\n 82,\n 92,\n 8,\n 23,\n 94,\n 69,\n 364,\n 186,\n 365,\n 366,\n 367,\n 82,\n 10,\n 368,\n 15,\n 369,\n 370,\n 69,\n 371,\n 372,\n 373,\n 374,\n 15,\n 375,\n 117,\n 158,\n 376,\n 23,\n 377,\n 69,\n 371,\n 38,\n 199,\n 378,\n 22,\n 23,\n 94,\n 15,\n 172,\n 132,\n 87,\n 379,\n 380,\n 144,\n 381,\n 93,\n 382,\n 144,\n 381,\n 72,\n 100,\n 144,\n 381,\n 22,\n 23,\n 117,\n 141,\n 320,\n 23,\n 13,\n 101,\n 102,\n 15,\n 103,\n 383,\n 384,\n 385,\n 386,\n 384,\n 158,\n 387,\n 244,\n 23,\n 388,\n 69,\n 382,\n 8,\n 389,\n 15,\n 103,\n 72,\n 390,\n 69,\n 23,\n 141,\n 69,\n 23,\n 391,\n 41,\n 392,\n 15,\n 393,\n 394,\n 395,\n 396,\n 218,\n 290,\n 393,\n 394,\n 397,\n 395,\n 396,\n 218,\n 290,\n 4,\n 218,\n 398,\n 203,\n 8,\n 399,\n 400,\n 401,\n 267,\n 8,\n 402,\n 10,\n 72,\n 12,\n 13,\n 403,\n 8,\n 14,\n 128,\n 404,\n 194,\n 259,\n 405,\n 15,\n 16,\n 45,\n 46,\n 406,\n 407,\n 69,\n 408,\n 137,\n 409,\n 394,\n 410,\n 259,\n 411,\n 412,\n 8,\n 413,\n 414,\n 415,\n 416,\n 250,\n 128,\n 417,\n 111,\n 418,\n 419,\n 420,\n 15,\n 16,\n 421,\n 12,\n 422,\n 423,\n 8,\n 25,\n 424,\n 425,\n 99,\n 22,\n 401,\n 426,\n 15,\n 427,\n 428,\n 429,\n 25,\n 430,\n 431,\n 43,\n 72,\n 421,\n 22,\n 432,\n 15,\n 100,\n 138,\n 433,\n 8,\n 25,\n 434,\n 100,\n 99,\n 72,\n 421,\n 22,\n 402,\n 15,\n 435,\n 15,\n 393,\n 394,\n 397,\n 395,\n 396,\n 218,\n 290,\n 72,\n 73,\n 128,\n 436,\n 22,\n 76,\n 437,\n 15,\n 438,\n 438,\n 439,\n 15,\n 440,\n 396,\n 218,\n 290,\n 72,\n 441,\n 137,\n 7,\n 167,\n 442,\n 167,\n 443,\n 444,\n 445,\n 446,\n 418]"
     },
     "execution_count": 10,
     "metadata": {},
     "output_type": "execute_result"
    }
   ],
   "source": [
    "testing_subset"
   ],
   "metadata": {
    "collapsed": false
   }
  },
  {
   "cell_type": "code",
   "execution_count": 8,
   "outputs": [
    {
     "ename": "AttributeError",
     "evalue": "'list' object has no attribute 'tolist'",
     "output_type": "error",
     "traceback": [
      "\u001B[0;31m---------------------------------------------------------------------------\u001B[0m",
      "\u001B[0;31mAttributeError\u001B[0m                            Traceback (most recent call last)",
      "Cell \u001B[0;32mIn[8], line 3\u001B[0m\n\u001B[1;32m      1\u001B[0m \u001B[38;5;66;03m#implementing the same but via nltk MLE\u001B[39;00m\n\u001B[0;32m----> 3\u001B[0m testing_subset_str \u001B[38;5;241m=\u001B[39m \u001B[43mtesting_subset\u001B[49m\u001B[38;5;241;43m.\u001B[39;49m\u001B[43mtolist\u001B[49m()\n\u001B[1;32m      4\u001B[0m testing_subset_str \u001B[38;5;241m=\u001B[39m [\u001B[38;5;28mstr\u001B[39m(i) \u001B[38;5;28;01mfor\u001B[39;00m i \u001B[38;5;129;01min\u001B[39;00m testing_subset]\n\u001B[1;32m      6\u001B[0m \u001B[38;5;28mprint\u001B[39m(testing_subset_str[:\u001B[38;5;241m10\u001B[39m])\n",
      "\u001B[0;31mAttributeError\u001B[0m: 'list' object has no attribute 'tolist'"
     ]
    }
   ],
   "source": [
    "#implementing the same but via nltk MLE\n",
    "\n",
    "testing_subset_str = testing_subset.tolist()\n",
    "testing_subset_str = [str(i) for i in testing_subset]\n",
    "\n",
    "print(testing_subset_str[:10])\n",
    "\n",
    "train_bigram_lm = MLE(2)\n",
    "train_bigram_lm.fit(bigrams(testing_subset_str), vocabulary_text=meta_vocab_size)\n",
    "train_bigram_lm.vocab\n",
    "\n",
    "\n"
   ],
   "metadata": {
    "collapsed": false
   }
  },
  {
   "cell_type": "code",
   "execution_count": 6,
   "outputs": [
    {
     "name": "stdout",
     "output_type": "stream",
     "text": [
      "[<zip object at 0x7fee51a343c0>, <zip object at 0x7fee51a3bc00>]\n",
      "[<zip object at 0x7fee51a3bc80>, <zip object at 0x7fee51a3b900>]\n",
      "<NgramCounter with 2 ngram orders and 14 ngrams>\n"
     ]
    }
   ],
   "source": [
    "text = [[\"a\", \"b\", \"c\", \"d\"], [\"a\", \"c\", \"d\", \"c\"]]\n",
    "from nltk.util import ngrams\n",
    "text_bigrams = [ngrams(sent, 2) for sent in text]\n",
    "text_unigrams = [ngrams(sent, 1) for sent in text]\n",
    "\n",
    "print(list(text_bigrams))\n",
    "print(list(text_unigrams))\n",
    "\n",
    "from nltk.lm import NgramCounter\n",
    "ngram_counts = NgramCounter(text_bigrams + text_unigrams)\n",
    "print(ngram_counts)"
   ],
   "metadata": {
    "collapsed": false
   }
  },
  {
   "cell_type": "code",
   "execution_count": 7,
   "outputs": [
    {
     "ename": "NameError",
     "evalue": "name 'testing_subset_str' is not defined",
     "output_type": "error",
     "traceback": [
      "\u001B[0;31m---------------------------------------------------------------------------\u001B[0m",
      "\u001B[0;31mNameError\u001B[0m                                 Traceback (most recent call last)",
      "Cell \u001B[0;32mIn[7], line 6\u001B[0m\n\u001B[1;32m      2\u001B[0m \u001B[38;5;66;03m#train, vocab = padded_everygram_pipeline(2, testing_subset_str)\u001B[39;00m\n\u001B[1;32m      3\u001B[0m \u001B[38;5;28;01mfrom\u001B[39;00m \u001B[38;5;21;01mnltk\u001B[39;00m\u001B[38;5;21;01m.\u001B[39;00m\u001B[38;5;21;01mlm\u001B[39;00m\u001B[38;5;21;01m.\u001B[39;00m\u001B[38;5;21;01mvocabulary\u001B[39;00m \u001B[38;5;28;01mimport\u001B[39;00m Vocabulary\n\u001B[0;32m----> 6\u001B[0m lm \u001B[38;5;241m=\u001B[39m Laplace(\u001B[38;5;241m2\u001B[39m, vocabulary \u001B[38;5;241m=\u001B[39m Vocabulary(\u001B[43mtesting_subset_str\u001B[49m, unk_cutoff\u001B[38;5;241m=\u001B[39m\u001B[38;5;241m1\u001B[39m)) \u001B[38;5;66;03m#, counter=Counter(bigrams(testing_subset_str)))\u001B[39;00m\n\u001B[1;32m      7\u001B[0m lm\u001B[38;5;241m.\u001B[39mfit(bigrams(testing_subset_str))\n",
      "\u001B[0;31mNameError\u001B[0m: name 'testing_subset_str' is not defined"
     ]
    }
   ],
   "source": [
    "from nltk.lm.preprocessing import padded_everygram_pipeline\n",
    "#train, vocab = padded_everygram_pipeline(2, testing_subset_str)\n",
    "from nltk.lm.vocabulary import Vocabulary\n",
    "\n",
    "\n",
    "lm = Laplace(2, vocabulary = Vocabulary(testing_subset_str, unk_cutoff=1)) #, counter=Counter(bigrams(testing_subset_str)))\n",
    "lm.fit(bigrams(testing_subset_str))"
   ],
   "metadata": {
    "collapsed": false
   }
  },
  {
   "cell_type": "code",
   "execution_count": 138,
   "outputs": [
    {
     "ename": "AttributeError",
     "evalue": "'Counter' object has no attribute 'unigrams'",
     "output_type": "error",
     "traceback": [
      "\u001B[0;31m---------------------------------------------------------------------------\u001B[0m",
      "\u001B[0;31mAttributeError\u001B[0m                            Traceback (most recent call last)",
      "Cell \u001B[0;32mIn[138], line 1\u001B[0m\n\u001B[0;32m----> 1\u001B[0m \u001B[43mlm\u001B[49m\u001B[38;5;241;43m.\u001B[39;49m\u001B[43mscore\u001B[49m\u001B[43m(\u001B[49m\u001B[38;5;124;43m'\u001B[39;49m\u001B[38;5;124;43m2\u001B[39;49m\u001B[38;5;124;43m'\u001B[39;49m\u001B[43m)\u001B[49m\n",
      "File \u001B[0;32m~/PycharmProjects/masters_thesis/mt1/lib/python3.9/site-packages/nltk/lm/api.py:124\u001B[0m, in \u001B[0;36mLanguageModel.score\u001B[0;34m(self, word, context)\u001B[0m\n\u001B[1;32m    118\u001B[0m \u001B[38;5;28;01mdef\u001B[39;00m \u001B[38;5;21mscore\u001B[39m(\u001B[38;5;28mself\u001B[39m, word, context\u001B[38;5;241m=\u001B[39m\u001B[38;5;28;01mNone\u001B[39;00m):\n\u001B[1;32m    119\u001B[0m \u001B[38;5;250m    \u001B[39m\u001B[38;5;124;03m\"\"\"Masks out of vocab (OOV) words and computes their model score.\u001B[39;00m\n\u001B[1;32m    120\u001B[0m \n\u001B[1;32m    121\u001B[0m \u001B[38;5;124;03m    For model-specific logic of calculating scores, see the `unmasked_score`\u001B[39;00m\n\u001B[1;32m    122\u001B[0m \u001B[38;5;124;03m    method.\u001B[39;00m\n\u001B[1;32m    123\u001B[0m \u001B[38;5;124;03m    \"\"\"\u001B[39;00m\n\u001B[0;32m--> 124\u001B[0m     \u001B[38;5;28;01mreturn\u001B[39;00m \u001B[38;5;28;43mself\u001B[39;49m\u001B[38;5;241;43m.\u001B[39;49m\u001B[43munmasked_score\u001B[49m\u001B[43m(\u001B[49m\n\u001B[1;32m    125\u001B[0m \u001B[43m        \u001B[49m\u001B[38;5;28;43mself\u001B[39;49m\u001B[38;5;241;43m.\u001B[39;49m\u001B[43mvocab\u001B[49m\u001B[38;5;241;43m.\u001B[39;49m\u001B[43mlookup\u001B[49m\u001B[43m(\u001B[49m\u001B[43mword\u001B[49m\u001B[43m)\u001B[49m\u001B[43m,\u001B[49m\u001B[43m \u001B[49m\u001B[38;5;28;43mself\u001B[39;49m\u001B[38;5;241;43m.\u001B[39;49m\u001B[43mvocab\u001B[49m\u001B[38;5;241;43m.\u001B[39;49m\u001B[43mlookup\u001B[49m\u001B[43m(\u001B[49m\u001B[43mcontext\u001B[49m\u001B[43m)\u001B[49m\u001B[43m \u001B[49m\u001B[38;5;28;43;01mif\u001B[39;49;00m\u001B[43m \u001B[49m\u001B[43mcontext\u001B[49m\u001B[43m \u001B[49m\u001B[38;5;28;43;01melse\u001B[39;49;00m\u001B[43m \u001B[49m\u001B[38;5;28;43;01mNone\u001B[39;49;00m\n\u001B[1;32m    126\u001B[0m \u001B[43m    \u001B[49m\u001B[43m)\u001B[49m\n",
      "File \u001B[0;32m~/PycharmProjects/masters_thesis/mt1/lib/python3.9/site-packages/nltk/lm/models.py:47\u001B[0m, in \u001B[0;36mLidstone.unmasked_score\u001B[0;34m(self, word, context)\u001B[0m\n\u001B[1;32m     41\u001B[0m \u001B[38;5;28;01mdef\u001B[39;00m \u001B[38;5;21munmasked_score\u001B[39m(\u001B[38;5;28mself\u001B[39m, word, context\u001B[38;5;241m=\u001B[39m\u001B[38;5;28;01mNone\u001B[39;00m):\n\u001B[1;32m     42\u001B[0m \u001B[38;5;250m    \u001B[39m\u001B[38;5;124;03m\"\"\"Add-one smoothing: Lidstone or Laplace.\u001B[39;00m\n\u001B[1;32m     43\u001B[0m \n\u001B[1;32m     44\u001B[0m \u001B[38;5;124;03m    To see what kind, look at `gamma` attribute on the class.\u001B[39;00m\n\u001B[1;32m     45\u001B[0m \n\u001B[1;32m     46\u001B[0m \u001B[38;5;124;03m    \"\"\"\u001B[39;00m\n\u001B[0;32m---> 47\u001B[0m     counts \u001B[38;5;241m=\u001B[39m \u001B[38;5;28;43mself\u001B[39;49m\u001B[38;5;241;43m.\u001B[39;49m\u001B[43mcontext_counts\u001B[49m\u001B[43m(\u001B[49m\u001B[43mcontext\u001B[49m\u001B[43m)\u001B[49m\n\u001B[1;32m     48\u001B[0m     word_count \u001B[38;5;241m=\u001B[39m counts[word]\n\u001B[1;32m     49\u001B[0m     norm_count \u001B[38;5;241m=\u001B[39m counts\u001B[38;5;241m.\u001B[39mN()\n",
      "File \u001B[0;32m~/PycharmProjects/masters_thesis/mt1/lib/python3.9/site-packages/nltk/lm/api.py:160\u001B[0m, in \u001B[0;36mLanguageModel.context_counts\u001B[0;34m(self, context)\u001B[0m\n\u001B[1;32m    152\u001B[0m \u001B[38;5;28;01mdef\u001B[39;00m \u001B[38;5;21mcontext_counts\u001B[39m(\u001B[38;5;28mself\u001B[39m, context):\n\u001B[1;32m    153\u001B[0m \u001B[38;5;250m    \u001B[39m\u001B[38;5;124;03m\"\"\"Helper method for retrieving counts for a given context.\u001B[39;00m\n\u001B[1;32m    154\u001B[0m \n\u001B[1;32m    155\u001B[0m \u001B[38;5;124;03m    Assumes context has been checked and oov words in it masked.\u001B[39;00m\n\u001B[1;32m    156\u001B[0m \u001B[38;5;124;03m    :type context: tuple(str) or None\u001B[39;00m\n\u001B[1;32m    157\u001B[0m \n\u001B[1;32m    158\u001B[0m \u001B[38;5;124;03m    \"\"\"\u001B[39;00m\n\u001B[1;32m    159\u001B[0m     \u001B[38;5;28;01mreturn\u001B[39;00m (\n\u001B[0;32m--> 160\u001B[0m         \u001B[38;5;28mself\u001B[39m\u001B[38;5;241m.\u001B[39mcounts[\u001B[38;5;28mlen\u001B[39m(context) \u001B[38;5;241m+\u001B[39m \u001B[38;5;241m1\u001B[39m][context] \u001B[38;5;28;01mif\u001B[39;00m context \u001B[38;5;28;01melse\u001B[39;00m \u001B[38;5;28;43mself\u001B[39;49m\u001B[38;5;241;43m.\u001B[39;49m\u001B[43mcounts\u001B[49m\u001B[38;5;241;43m.\u001B[39;49m\u001B[43munigrams\u001B[49m\n\u001B[1;32m    161\u001B[0m     )\n",
      "\u001B[0;31mAttributeError\u001B[0m: 'Counter' object has no attribute 'unigrams'"
     ]
    }
   ],
   "source": [
    "lm.score('2')"
   ],
   "metadata": {
    "collapsed": false
   }
  },
  {
   "cell_type": "code",
   "execution_count": 135,
   "outputs": [
    {
     "ename": "TypeError",
     "evalue": "'int' object is not subscriptable",
     "output_type": "error",
     "traceback": [
      "\u001B[0;31m---------------------------------------------------------------------------\u001B[0m",
      "\u001B[0;31mTypeError\u001B[0m                                 Traceback (most recent call last)",
      "Cell \u001B[0;32mIn[135], line 2\u001B[0m\n\u001B[1;32m      1\u001B[0m \u001B[38;5;28;01mfor\u001B[39;00m i,val \u001B[38;5;129;01min\u001B[39;00m \u001B[38;5;28menumerate\u001B[39m(\u001B[38;5;28mlist\u001B[39m(bigrams(testing_subset_str))):\n\u001B[0;32m----> 2\u001B[0m     \u001B[38;5;28mprint\u001B[39m(val, \u001B[43mlm\u001B[49m\u001B[38;5;241;43m.\u001B[39;49m\u001B[43mscore\u001B[49m\u001B[43m(\u001B[49m\u001B[43mval\u001B[49m\u001B[43m[\u001B[49m\u001B[38;5;241;43m1\u001B[39;49m\u001B[43m]\u001B[49m\u001B[43m,\u001B[49m\u001B[43m \u001B[49m\u001B[43mval\u001B[49m\u001B[43m[\u001B[49m\u001B[38;5;241;43m0\u001B[39;49m\u001B[43m]\u001B[49m\u001B[43m)\u001B[49m, ts_bigram_probs[itos_mapper[\u001B[38;5;28mint\u001B[39m(val[\u001B[38;5;241m1\u001B[39m])], itos_mapper[\u001B[38;5;28mint\u001B[39m(val[\u001B[38;5;241m0\u001B[39m])]])\n\u001B[1;32m      3\u001B[0m     \u001B[38;5;28;01mif\u001B[39;00m i \u001B[38;5;241m>\u001B[39m \u001B[38;5;241m10\u001B[39m:\n\u001B[1;32m      4\u001B[0m         \u001B[38;5;28;01mbreak\u001B[39;00m\n",
      "File \u001B[0;32m~/PycharmProjects/masters_thesis/mt1/lib/python3.9/site-packages/nltk/lm/api.py:124\u001B[0m, in \u001B[0;36mLanguageModel.score\u001B[0;34m(self, word, context)\u001B[0m\n\u001B[1;32m    118\u001B[0m \u001B[38;5;28;01mdef\u001B[39;00m \u001B[38;5;21mscore\u001B[39m(\u001B[38;5;28mself\u001B[39m, word, context\u001B[38;5;241m=\u001B[39m\u001B[38;5;28;01mNone\u001B[39;00m):\n\u001B[1;32m    119\u001B[0m \u001B[38;5;250m    \u001B[39m\u001B[38;5;124;03m\"\"\"Masks out of vocab (OOV) words and computes their model score.\u001B[39;00m\n\u001B[1;32m    120\u001B[0m \n\u001B[1;32m    121\u001B[0m \u001B[38;5;124;03m    For model-specific logic of calculating scores, see the `unmasked_score`\u001B[39;00m\n\u001B[1;32m    122\u001B[0m \u001B[38;5;124;03m    method.\u001B[39;00m\n\u001B[1;32m    123\u001B[0m \u001B[38;5;124;03m    \"\"\"\u001B[39;00m\n\u001B[0;32m--> 124\u001B[0m     \u001B[38;5;28;01mreturn\u001B[39;00m \u001B[38;5;28;43mself\u001B[39;49m\u001B[38;5;241;43m.\u001B[39;49m\u001B[43munmasked_score\u001B[49m\u001B[43m(\u001B[49m\n\u001B[1;32m    125\u001B[0m \u001B[43m        \u001B[49m\u001B[38;5;28;43mself\u001B[39;49m\u001B[38;5;241;43m.\u001B[39;49m\u001B[43mvocab\u001B[49m\u001B[38;5;241;43m.\u001B[39;49m\u001B[43mlookup\u001B[49m\u001B[43m(\u001B[49m\u001B[43mword\u001B[49m\u001B[43m)\u001B[49m\u001B[43m,\u001B[49m\u001B[43m \u001B[49m\u001B[38;5;28;43mself\u001B[39;49m\u001B[38;5;241;43m.\u001B[39;49m\u001B[43mvocab\u001B[49m\u001B[38;5;241;43m.\u001B[39;49m\u001B[43mlookup\u001B[49m\u001B[43m(\u001B[49m\u001B[43mcontext\u001B[49m\u001B[43m)\u001B[49m\u001B[43m \u001B[49m\u001B[38;5;28;43;01mif\u001B[39;49;00m\u001B[43m \u001B[49m\u001B[43mcontext\u001B[49m\u001B[43m \u001B[49m\u001B[38;5;28;43;01melse\u001B[39;49;00m\u001B[43m \u001B[49m\u001B[38;5;28;43;01mNone\u001B[39;49;00m\n\u001B[1;32m    126\u001B[0m \u001B[43m    \u001B[49m\u001B[43m)\u001B[49m\n",
      "File \u001B[0;32m~/PycharmProjects/masters_thesis/mt1/lib/python3.9/site-packages/nltk/lm/models.py:47\u001B[0m, in \u001B[0;36mLidstone.unmasked_score\u001B[0;34m(self, word, context)\u001B[0m\n\u001B[1;32m     41\u001B[0m \u001B[38;5;28;01mdef\u001B[39;00m \u001B[38;5;21munmasked_score\u001B[39m(\u001B[38;5;28mself\u001B[39m, word, context\u001B[38;5;241m=\u001B[39m\u001B[38;5;28;01mNone\u001B[39;00m):\n\u001B[1;32m     42\u001B[0m \u001B[38;5;250m    \u001B[39m\u001B[38;5;124;03m\"\"\"Add-one smoothing: Lidstone or Laplace.\u001B[39;00m\n\u001B[1;32m     43\u001B[0m \n\u001B[1;32m     44\u001B[0m \u001B[38;5;124;03m    To see what kind, look at `gamma` attribute on the class.\u001B[39;00m\n\u001B[1;32m     45\u001B[0m \n\u001B[1;32m     46\u001B[0m \u001B[38;5;124;03m    \"\"\"\u001B[39;00m\n\u001B[0;32m---> 47\u001B[0m     counts \u001B[38;5;241m=\u001B[39m \u001B[38;5;28;43mself\u001B[39;49m\u001B[38;5;241;43m.\u001B[39;49m\u001B[43mcontext_counts\u001B[49m\u001B[43m(\u001B[49m\u001B[43mcontext\u001B[49m\u001B[43m)\u001B[49m\n\u001B[1;32m     48\u001B[0m     word_count \u001B[38;5;241m=\u001B[39m counts[word]\n\u001B[1;32m     49\u001B[0m     norm_count \u001B[38;5;241m=\u001B[39m counts\u001B[38;5;241m.\u001B[39mN()\n",
      "File \u001B[0;32m~/PycharmProjects/masters_thesis/mt1/lib/python3.9/site-packages/nltk/lm/api.py:160\u001B[0m, in \u001B[0;36mLanguageModel.context_counts\u001B[0;34m(self, context)\u001B[0m\n\u001B[1;32m    152\u001B[0m \u001B[38;5;28;01mdef\u001B[39;00m \u001B[38;5;21mcontext_counts\u001B[39m(\u001B[38;5;28mself\u001B[39m, context):\n\u001B[1;32m    153\u001B[0m \u001B[38;5;250m    \u001B[39m\u001B[38;5;124;03m\"\"\"Helper method for retrieving counts for a given context.\u001B[39;00m\n\u001B[1;32m    154\u001B[0m \n\u001B[1;32m    155\u001B[0m \u001B[38;5;124;03m    Assumes context has been checked and oov words in it masked.\u001B[39;00m\n\u001B[1;32m    156\u001B[0m \u001B[38;5;124;03m    :type context: tuple(str) or None\u001B[39;00m\n\u001B[1;32m    157\u001B[0m \n\u001B[1;32m    158\u001B[0m \u001B[38;5;124;03m    \"\"\"\u001B[39;00m\n\u001B[1;32m    159\u001B[0m     \u001B[38;5;28;01mreturn\u001B[39;00m (\n\u001B[0;32m--> 160\u001B[0m         \u001B[38;5;28;43mself\u001B[39;49m\u001B[38;5;241;43m.\u001B[39;49m\u001B[43mcounts\u001B[49m\u001B[43m[\u001B[49m\u001B[38;5;28;43mlen\u001B[39;49m\u001B[43m(\u001B[49m\u001B[43mcontext\u001B[49m\u001B[43m)\u001B[49m\u001B[43m \u001B[49m\u001B[38;5;241;43m+\u001B[39;49m\u001B[43m \u001B[49m\u001B[38;5;241;43m1\u001B[39;49m\u001B[43m]\u001B[49m\u001B[43m[\u001B[49m\u001B[43mcontext\u001B[49m\u001B[43m]\u001B[49m \u001B[38;5;28;01mif\u001B[39;00m context \u001B[38;5;28;01melse\u001B[39;00m \u001B[38;5;28mself\u001B[39m\u001B[38;5;241m.\u001B[39mcounts\u001B[38;5;241m.\u001B[39munigrams\n\u001B[1;32m    161\u001B[0m     )\n",
      "\u001B[0;31mTypeError\u001B[0m: 'int' object is not subscriptable"
     ]
    }
   ],
   "source": [
    "for i,val in enumerate(list(bigrams(testing_subset_str))):\n",
    "    print(val, lm.score(val[1], val[0]), ts_bigram_probs[itos_mapper[int(val[1])], itos_mapper[int(val[0])]])\n",
    "    if i > 10:\n",
    "        break"
   ],
   "metadata": {
    "collapsed": false
   }
  },
  {
   "cell_type": "code",
   "execution_count": 83,
   "outputs": [
    {
     "data": {
      "text/plain": "3.726726889641174"
     },
     "execution_count": 83,
     "metadata": {},
     "output_type": "execute_result"
    }
   ],
   "source": [
    "lm.entropy(list(bigrams(testing_subset_str)))"
   ],
   "metadata": {
    "collapsed": false
   }
  },
  {
   "cell_type": "code",
   "execution_count": 7,
   "outputs": [
    {
     "name": "stderr",
     "output_type": "stream",
     "text": [
      "100%|██████████| 14545184/14545184 [02:47<00:00, 87028.08it/s]\n",
      "100%|██████████| 13921893/13921893 [02:37<00:00, 88392.45it/s]"
     ]
    },
    {
     "name": "stdout",
     "output_type": "stream",
     "text": [
      "Train bigram loss = 5.702608585357666\n",
      "Val bigram loss = 5.8382182121276855\n"
     ]
    },
    {
     "name": "stderr",
     "output_type": "stream",
     "text": [
      "\n"
     ]
    }
   ],
   "source": [
    "#Loss calculator =\n",
    "\n",
    "\n",
    "train_bigram_loss = calculate_loss(train_bigram_probs, train_data, 'bigram')\n",
    "val_bigram_loss = calculate_loss(train_bigram_probs, val_data, 'bigram')\n",
    "\n",
    "\n",
    "print(f\"Train bigram loss = {train_bigram_loss}\")\n",
    "print(f\"Val bigram loss = {val_bigram_loss}\")\n",
    "\n"
   ],
   "metadata": {
    "collapsed": false
   }
  },
  {
   "cell_type": "code",
   "execution_count": null,
   "outputs": [],
   "source": [
    "testing_subset ="
   ],
   "metadata": {
    "collapsed": false
   }
  },
  {
   "cell_type": "code",
   "execution_count": 8,
   "outputs": [
    {
     "name": "stderr",
     "output_type": "stream",
     "text": [
      "100%|██████████| 9/9 [00:00<00:00, 18540.64it/s]\n"
     ]
    },
    {
     "data": {
      "text/plain": "tensor(8.1286)"
     },
     "execution_count": 8,
     "metadata": {},
     "output_type": "execute_result"
    }
   ],
   "source": [
    "calculate_bigram_loss(train_probs, [1,2,3,4,5,6,7,8,9,10])"
   ],
   "metadata": {
    "collapsed": false
   }
  },
  {
   "cell_type": "code",
   "execution_count": 64,
   "outputs": [
    {
     "name": "stderr",
     "output_type": "stream",
     "text": [
      "100%|██████████| 6434288/6434288 [00:07<00:00, 908132.70it/s] \n",
      "100%|██████████| 6026069/6026069 [00:06<00:00, 900709.44it/s] \n"
     ]
    }
   ],
   "source": [],
   "metadata": {
    "collapsed": false
   }
  },
  {
   "cell_type": "code",
   "execution_count": 65,
   "outputs": [
    {
     "name": "stdout",
     "output_type": "stream",
     "text": [
      "(49, 370, 565) 0.00024838549428713363\n",
      "(370, 565, 39) 0.00024996875390576176\n",
      "(565, 39, 391) 0.00024909702329057166\n",
      "(39, 391, 1753) 0.0045871559633027525\n",
      "(391, 1753, 2315) 0.007099603257465024\n",
      "(1753, 2315, 3465) 0.0004958472790380563\n",
      "(2315, 3465, 12) 0.0016223636590540372\n",
      "(3465, 12, 6812) 0.0003638568829593693\n",
      "(12, 6812, 9) 0.001120099564405725\n",
      "(6812, 9, 229) 0.00224271118863693\n",
      "(9, 229, 267) 0.07475936828333801\n"
     ]
    }
   ],
   "source": [
    "for i, (k,v) in enumerate(train_trigram_probs.items()):\n",
    "    if i > 10:\n",
    "        break\n",
    "    print(k, v)\n"
   ],
   "metadata": {
    "collapsed": false
   }
  },
  {
   "cell_type": "code",
   "execution_count": 68,
   "outputs": [
    {
     "name": "stderr",
     "output_type": "stream",
     "text": [
      "100%|██████████| 14545183/14545183 [00:26<00:00, 546067.32it/s]\n",
      "100%|██████████| 13921892/13921892 [00:25<00:00, 546449.97it/s]"
     ]
    },
    {
     "name": "stdout",
     "output_type": "stream",
     "text": [
      "Train trigram loss = 6.911967814899822\n",
      "Val trigram loss = 7.324238471596719\n"
     ]
    },
    {
     "name": "stderr",
     "output_type": "stream",
     "text": [
      "\n"
     ]
    }
   ],
   "source": [
    "#Loss calculator =\n",
    "\n",
    "\n",
    "train_trigram_loss = calculate_trigram_loss(train_trigram_probs, train_data)\n",
    "val_trigram_loss = calculate_trigram_loss(train_trigram_probs, val_data)\n",
    "\n",
    "print(f\"Train trigram loss = {train_trigram_loss}\")\n",
    "print(f\"Val trigram loss = {val_trigram_loss}\")\n"
   ],
   "metadata": {
    "collapsed": false
   }
  },
  {
   "cell_type": "code",
   "execution_count": 15,
   "outputs": [
    {
     "ename": "ValueError",
     "evalue": "Can't choose from empty population",
     "output_type": "error",
     "traceback": [
      "\u001B[0;31m---------------------------------------------------------------------------\u001B[0m",
      "\u001B[0;31mValueError\u001B[0m                                Traceback (most recent call last)",
      "Cell \u001B[0;32mIn[15], line 3\u001B[0m\n\u001B[1;32m      1\u001B[0m \u001B[38;5;66;03m#print(lm.perplexity(val))\u001B[39;00m\n\u001B[0;32m----> 3\u001B[0m \u001B[38;5;28mprint\u001B[39m(\u001B[43mlm\u001B[49m\u001B[38;5;241;43m.\u001B[39;49m\u001B[43mgenerate\u001B[49m\u001B[43m(\u001B[49m\u001B[38;5;241;43m10\u001B[39;49m\u001B[43m,\u001B[49m\u001B[43m \u001B[49m\u001B[43mrandom_seed\u001B[49m\u001B[38;5;241;43m=\u001B[39;49m\u001B[38;5;241;43m3\u001B[39;49m\u001B[43m,\u001B[49m\u001B[43m \u001B[49m\u001B[43mtext_seed\u001B[49m\u001B[38;5;241;43m=\u001B[39;49m\u001B[43m[\u001B[49m\u001B[38;5;124;43m'\u001B[39;49m\u001B[38;5;124;43m<s>\u001B[39;49m\u001B[38;5;124;43m'\u001B[39;49m\u001B[43m]\u001B[49m\u001B[43m)\u001B[49m)\n",
      "File \u001B[0;32m~/PycharmProjects/masters_thesis/mt1/lib/python3.9/site-packages/nltk/lm/api.py:229\u001B[0m, in \u001B[0;36mLanguageModel.generate\u001B[0;34m(self, num_words, text_seed, random_seed)\u001B[0m\n\u001B[1;32m    226\u001B[0m generated \u001B[38;5;241m=\u001B[39m []\n\u001B[1;32m    227\u001B[0m \u001B[38;5;28;01mfor\u001B[39;00m _ \u001B[38;5;129;01min\u001B[39;00m \u001B[38;5;28mrange\u001B[39m(num_words):\n\u001B[1;32m    228\u001B[0m     generated\u001B[38;5;241m.\u001B[39mappend(\n\u001B[0;32m--> 229\u001B[0m         \u001B[38;5;28;43mself\u001B[39;49m\u001B[38;5;241;43m.\u001B[39;49m\u001B[43mgenerate\u001B[49m\u001B[43m(\u001B[49m\n\u001B[1;32m    230\u001B[0m \u001B[43m            \u001B[49m\u001B[43mnum_words\u001B[49m\u001B[38;5;241;43m=\u001B[39;49m\u001B[38;5;241;43m1\u001B[39;49m\u001B[43m,\u001B[49m\n\u001B[1;32m    231\u001B[0m \u001B[43m            \u001B[49m\u001B[43mtext_seed\u001B[49m\u001B[38;5;241;43m=\u001B[39;49m\u001B[43mtext_seed\u001B[49m\u001B[43m \u001B[49m\u001B[38;5;241;43m+\u001B[39;49m\u001B[43m \u001B[49m\u001B[43mgenerated\u001B[49m\u001B[43m,\u001B[49m\n\u001B[1;32m    232\u001B[0m \u001B[43m            \u001B[49m\u001B[43mrandom_seed\u001B[49m\u001B[38;5;241;43m=\u001B[39;49m\u001B[43mrandom_generator\u001B[49m\u001B[43m,\u001B[49m\n\u001B[1;32m    233\u001B[0m \u001B[43m        \u001B[49m\u001B[43m)\u001B[49m\n\u001B[1;32m    234\u001B[0m     )\n\u001B[1;32m    235\u001B[0m \u001B[38;5;28;01mreturn\u001B[39;00m generated\n",
      "File \u001B[0;32m~/PycharmProjects/masters_thesis/mt1/lib/python3.9/site-packages/nltk/lm/api.py:220\u001B[0m, in \u001B[0;36mLanguageModel.generate\u001B[0;34m(self, num_words, text_seed, random_seed)\u001B[0m\n\u001B[1;32m    216\u001B[0m     \u001B[38;5;66;03m# Sorting samples achieves two things:\u001B[39;00m\n\u001B[1;32m    217\u001B[0m     \u001B[38;5;66;03m# - reproducible randomness when sampling\u001B[39;00m\n\u001B[1;32m    218\u001B[0m     \u001B[38;5;66;03m# - turns Mapping into Sequence which `_weighted_choice` expects\u001B[39;00m\n\u001B[1;32m    219\u001B[0m     samples \u001B[38;5;241m=\u001B[39m \u001B[38;5;28msorted\u001B[39m(samples)\n\u001B[0;32m--> 220\u001B[0m     \u001B[38;5;28;01mreturn\u001B[39;00m \u001B[43m_weighted_choice\u001B[49m\u001B[43m(\u001B[49m\n\u001B[1;32m    221\u001B[0m \u001B[43m        \u001B[49m\u001B[43msamples\u001B[49m\u001B[43m,\u001B[49m\n\u001B[1;32m    222\u001B[0m \u001B[43m        \u001B[49m\u001B[38;5;28;43mtuple\u001B[39;49m\u001B[43m(\u001B[49m\u001B[38;5;28;43mself\u001B[39;49m\u001B[38;5;241;43m.\u001B[39;49m\u001B[43mscore\u001B[49m\u001B[43m(\u001B[49m\u001B[43mw\u001B[49m\u001B[43m,\u001B[49m\u001B[43m \u001B[49m\u001B[43mcontext\u001B[49m\u001B[43m)\u001B[49m\u001B[43m \u001B[49m\u001B[38;5;28;43;01mfor\u001B[39;49;00m\u001B[43m \u001B[49m\u001B[43mw\u001B[49m\u001B[43m \u001B[49m\u001B[38;5;129;43;01min\u001B[39;49;00m\u001B[43m \u001B[49m\u001B[43msamples\u001B[49m\u001B[43m)\u001B[49m\u001B[43m,\u001B[49m\n\u001B[1;32m    223\u001B[0m \u001B[43m        \u001B[49m\u001B[43mrandom_generator\u001B[49m\u001B[43m,\u001B[49m\n\u001B[1;32m    224\u001B[0m \u001B[43m    \u001B[49m\u001B[43m)\u001B[49m\n\u001B[1;32m    225\u001B[0m \u001B[38;5;66;03m# We build up text one word at a time using the preceding context.\u001B[39;00m\n\u001B[1;32m    226\u001B[0m generated \u001B[38;5;241m=\u001B[39m []\n",
      "File \u001B[0;32m~/PycharmProjects/masters_thesis/mt1/lib/python3.9/site-packages/nltk/lm/api.py:64\u001B[0m, in \u001B[0;36m_weighted_choice\u001B[0;34m(population, weights, random_generator)\u001B[0m\n\u001B[1;32m     59\u001B[0m \u001B[38;5;250m\u001B[39m\u001B[38;5;124;03m\"\"\"Like random.choice, but with weights.\u001B[39;00m\n\u001B[1;32m     60\u001B[0m \n\u001B[1;32m     61\u001B[0m \u001B[38;5;124;03mHeavily inspired by python 3.6 `random.choices`.\u001B[39;00m\n\u001B[1;32m     62\u001B[0m \u001B[38;5;124;03m\"\"\"\u001B[39;00m\n\u001B[1;32m     63\u001B[0m \u001B[38;5;28;01mif\u001B[39;00m \u001B[38;5;129;01mnot\u001B[39;00m population:\n\u001B[0;32m---> 64\u001B[0m     \u001B[38;5;28;01mraise\u001B[39;00m \u001B[38;5;167;01mValueError\u001B[39;00m(\u001B[38;5;124m\"\u001B[39m\u001B[38;5;124mCan\u001B[39m\u001B[38;5;124m'\u001B[39m\u001B[38;5;124mt choose from empty population\u001B[39m\u001B[38;5;124m\"\u001B[39m)\n\u001B[1;32m     65\u001B[0m \u001B[38;5;28;01mif\u001B[39;00m \u001B[38;5;28mlen\u001B[39m(population) \u001B[38;5;241m!=\u001B[39m \u001B[38;5;28mlen\u001B[39m(weights):\n\u001B[1;32m     66\u001B[0m     \u001B[38;5;28;01mraise\u001B[39;00m \u001B[38;5;167;01mValueError\u001B[39;00m(\u001B[38;5;124m\"\u001B[39m\u001B[38;5;124mThe number of weights does not match the population\u001B[39m\u001B[38;5;124m\"\u001B[39m)\n",
      "\u001B[0;31mValueError\u001B[0m: Can't choose from empty population"
     ]
    }
   ],
   "source": [],
   "metadata": {
    "collapsed": false
   }
  },
  {
   "cell_type": "code",
   "execution_count": null,
   "outputs": [],
   "source": [],
   "metadata": {
    "collapsed": false
   }
  }
 ],
 "metadata": {
  "kernelspec": {
   "display_name": "Python 3",
   "language": "python",
   "name": "python3"
  },
  "language_info": {
   "codemirror_mode": {
    "name": "ipython",
    "version": 2
   },
   "file_extension": ".py",
   "mimetype": "text/x-python",
   "name": "python",
   "nbconvert_exporter": "python",
   "pygments_lexer": "ipython2",
   "version": "2.7.6"
  }
 },
 "nbformat": 4,
 "nbformat_minor": 0
}
