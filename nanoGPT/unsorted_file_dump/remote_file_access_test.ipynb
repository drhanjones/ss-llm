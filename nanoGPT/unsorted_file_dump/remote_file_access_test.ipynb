{
 "cells": [
  {
   "cell_type": "code",
   "id": "initial_id",
   "metadata": {
    "collapsed": true,
    "ExecuteTime": {
     "end_time": "2024-09-09T15:46:38.908716Z",
     "start_time": "2024-09-09T15:46:38.888734Z"
    }
   },
   "source": [
    "import os\n",
    "import paramiko\n",
    "import getpass"
   ],
   "outputs": [],
   "execution_count": 13
  },
  {
   "metadata": {
    "ExecuteTime": {
     "end_time": "2024-09-09T15:56:12.931381Z",
     "start_time": "2024-09-09T15:56:12.214956Z"
    }
   },
   "cell_type": "code",
   "source": [
    "# Set up the connection\n",
    "hostname = 'snellius.surf.nl'\n",
    "username = 'athamma'\n",
    "#k = paramiko.RSAKey.from_private_key_file('/home/abishekthamma/.ssh/snelliuskey', password='Horrorcat1101Tgel@')\n",
    "\n",
    "k = paramiko.Ed25519Key.from_private_key_file('/home/abishekthamma/.ssh/snelliuskey', password='Horrorcat1101Tgel@')\n",
    "\n",
    "ssh_client = paramiko.SSHClient()\n",
    "#ssh_client.load_system_host_keys()\n",
    "ssh_client.set_missing_host_key_policy(paramiko.AutoAddPolicy())\n",
    "ssh_client.connect(hostname=hostname, username=username, pkey=k, port=22)\n",
    "\n",
    "#stdin, stdout, stderr = ssh_client.exec_command('ls')\n"
   ],
   "id": "ebfeb73729903f61",
   "outputs": [],
   "execution_count": 19
  },
  {
   "metadata": {
    "ExecuteTime": {
     "end_time": "2024-09-09T15:56:36.289064Z",
     "start_time": "2024-09-09T15:56:35.521512Z"
    }
   },
   "cell_type": "code",
   "source": "ssh_sftp = ssh_client.open_sftp()",
   "id": "20351542f0b6c9a1",
   "outputs": [],
   "execution_count": 20
  },
  {
   "metadata": {
    "ExecuteTime": {
     "end_time": "2024-09-09T16:44:45.316080Z",
     "start_time": "2024-09-09T16:44:44.921744Z"
    }
   },
   "cell_type": "code",
   "source": [
    "repo_home_path = '/home/athamma/repo/ss-llm'\n",
    "output_dir = 'nanoGPT/output_dump'\n",
    "ssh_sftp.chdir(repo_home_path)\n",
    "ssh_sftp.listdir()\n",
    "\n",
    "remote_output_dump_list = ssh_sftp.listdir(os.path.join(repo_home_path, output_dir))\n",
    "print(sorted(remote_output_dump_list))\n"
   ],
   "id": "1c72d953044e1f7b",
   "outputs": [
    {
     "name": "stdout",
     "output_type": "stream",
     "text": [
      "['out-babylm_full_bpe-2x2-nomask-1709512418', 'out-babylm_full_bpe-4x4-nomask-1709506109', 'out-babylm_full_bpe-4x4-nomask-5444724', 'out-babylm_full_bpe-6x6-mask_e002-5757736', 'out-babylm_full_bpe-6x6-mask_e100-5757737', 'out-babylm_full_bpe-6x6-nomask-5492134', 'out-babylm_full_bpe-8x8-nomask-5492054', 'out-babylm_full_bpe_100M_8k-12x12-mask_ee002_em01-7761454_s1337', 'out-babylm_full_bpe_100M_8k-12x12-nomask-7761393_s1337', 'out-babylm_full_bpe_100M_8k-12x12-nomask-7761405_s1337', 'out-babylm_full_bpe_100M_8k-12x12-nomask-7761425_s1337', 'out-babylm_full_bpe_100M_8k-12x12-nomask-7761428_s1337', 'out-babylm_full_bpe_100M_8k-12x12-nomask-7761445_s1337', 'out-babylm_full_bpe_100M_8k-12x12-nomask-7761451_s1337', 'out-babylm_full_bpe_50k-2x2-nomask-1709532837', 'out-babylm_full_bpe_50k-4x4-nomask-1709531637', 'out-babylm_full_bpe_8k-10x10-mask_e010-5988023', 'out-babylm_full_bpe_8k-10x10-mask_e100-5988024', 'out-babylm_full_bpe_8k-12x12-mask_e010-5989080', 'out-babylm_full_bpe_8k-12x12-mask_e010-5989086-short5gram', 'out-babylm_full_bpe_8k-12x12-mask_e010-5990497-short5gram', 'out-babylm_full_bpe_8k-12x12-mask_e100-5989082', 'out-babylm_full_bpe_8k-12x12-mask_e100-5989092-short5gram', 'out-babylm_full_bpe_8k-12x12-mask_e100-5990498-short5gram', 'out-babylm_full_bpe_8k-12x12-mask_e100-6191964-short5gram-hsadjp_s1729', 'out-babylm_full_bpe_8k-12x12-mask_e100-6191968-short5gram-hsadjp_s31415', 'out-babylm_full_bpe_8k-12x12-mask_e100-6191972-short5gram-hsadjp_s404', 'out-babylm_full_bpe_8k-12x12-mask_e100-6191976-short5gram-hsadjp_s42', 'out-babylm_full_bpe_8k-12x12-nomask-6067325-5gramgpt', 'out-babylm_full_bpe_8k-12x12-nomask-6199971-5gramgpt_s42', 'out-babylm_full_bpe_8k-12x12-nomask-6199972-5gramgpt_s1729', 'out-babylm_full_bpe_8k-12x12-nomask-6199974-5gramgpt_s31415', 'out-babylm_full_bpe_8k-12x12-nomask-6199975-5gramgpt_s404', 'out-babylm_full_bpe_8k-12x12-nomask-6200071-short5gram-hsadjp_s42', 'out-babylm_full_bpe_8k-12x12-nomask-6200072-short5gram-hsadjp_s1729', 'out-babylm_full_bpe_8k-12x12-nomask-6200073-short5gram-hsadjp_s31415', 'out-babylm_full_bpe_8k-12x12-nomask-6200074-short5gram-hsadjp_s404', 'out-babylm_full_bpe_8k-12x12-nomask-6200075-short5gram-hsadjp_s101010', 'out-babylm_full_bpe_8k-12x6-nomask-6067525-5gramgpt', 'out-babylm_full_bpe_8k-16x12-mask_e100-6076157-short5gram', 'out-babylm_full_bpe_8k-16x12-mask_e100-6155197-short5gram-hsadjp', 'out-babylm_full_bpe_8k-16x12-mask_e100-6156977-short5gram-ffwadjp', 'out-babylm_full_bpe_8k-16x12-nomask-6067326-5gramgpt', 'out-babylm_full_bpe_8k-16x6-nomask-1714257283-5gramgpt', 'out-babylm_full_bpe_8k-16x6-nomask-6067526-5gramgpt', 'out-babylm_full_bpe_8k-16x6-nomask-6074706-5gramgpt', 'out-babylm_full_bpe_8k-24x12-mask_e100-6076158-short5gram', 'out-babylm_full_bpe_8k-24x12-nomask-6076155-5gramgpt', 'out-babylm_full_bpe_8k-2x12-mask_e100-6093011-short5gram', 'out-babylm_full_bpe_8k-2x12-mask_e100-6155194-short5gram-hsadjp', 'out-babylm_full_bpe_8k-2x12-mask_e100-6156974-short5gram-ffwadjp', 'out-babylm_full_bpe_8k-2x12-mask_e100-6191965-short5gram-hsadjp_s31415', 'out-babylm_full_bpe_8k-2x12-mask_e100-6191969-short5gram-hsadjp_s404', 'out-babylm_full_bpe_8k-2x12-mask_e100-6191973-short5gram-hsadjp_s42', 'out-babylm_full_bpe_8k-2x12-mask_e100-6218380-short5gram-hsadjp_s1729', 'out-babylm_full_bpe_8k-2x12-nomask-6093007-5gramgpt', 'out-babylm_full_bpe_8k-2x12-nomask-6199955-5gramgpt_s42', 'out-babylm_full_bpe_8k-2x12-nomask-6199957-5gramgpt_s1729', 'out-babylm_full_bpe_8k-2x12-nomask-6199958-5gramgpt_s31415', 'out-babylm_full_bpe_8k-2x12-nomask-6199959-5gramgpt_s404', 'out-babylm_full_bpe_8k-2x12-nomask-6200055-short5gram-hsadjp_s42', 'out-babylm_full_bpe_8k-2x12-nomask-6200056-short5gram-hsadjp_s1729', 'out-babylm_full_bpe_8k-2x12-nomask-6200057-short5gram-hsadjp_s31415', 'out-babylm_full_bpe_8k-2x12-nomask-6200058-short5gram-hsadjp_s404', 'out-babylm_full_bpe_8k-2x12-nomask-6200059-short5gram-hsadjp_s101010', 'out-babylm_full_bpe_8k-2x2-mask_e010-5983308', 'out-babylm_full_bpe_8k-2x2-mask_e010-5988063-short5gram', 'out-babylm_full_bpe_8k-2x2-mask_e100-5983309', 'out-babylm_full_bpe_8k-2x2-mask_e100-5988064-short5gram', 'out-babylm_full_bpe_8k-2x2-nomask-1709513019', 'out-babylm_full_bpe_8k-4x12-mask_e100-6093012-short5gram', 'out-babylm_full_bpe_8k-4x12-mask_e100-6155195-short5gram-hsadjp', 'out-babylm_full_bpe_8k-4x12-mask_e100-6156975-short5gram-ffwadjp', 'out-babylm_full_bpe_8k-4x12-mask_e100-6191966-short5gram-hsadjp_s31415', 'out-babylm_full_bpe_8k-4x12-mask_e100-6191970-short5gram-hsadjp_s404', 'out-babylm_full_bpe_8k-4x12-mask_e100-6191974-short5gram-hsadjp_s42', 'out-babylm_full_bpe_8k-4x12-mask_e100-6218379-short5gram-hsadjp_s1729', 'out-babylm_full_bpe_8k-4x12-nomask-6093010-5gramgpt', 'out-babylm_full_bpe_8k-4x12-nomask-6199960-5gramgpt_s42', 'out-babylm_full_bpe_8k-4x12-nomask-6199961-5gramgpt_s1729', 'out-babylm_full_bpe_8k-4x12-nomask-6199962-5gramgpt_s31415', 'out-babylm_full_bpe_8k-4x12-nomask-6199966-5gramgpt_s404', 'out-babylm_full_bpe_8k-4x12-nomask-6200060-short5gram-hsadjp_s42', 'out-babylm_full_bpe_8k-4x12-nomask-6200062-short5gram-hsadjp_s31415', 'out-babylm_full_bpe_8k-4x12-nomask-6200063-short5gram-hsadjp_s404', 'out-babylm_full_bpe_8k-4x12-nomask-6200064-short5gram-hsadjp_s101010', 'out-babylm_full_bpe_8k-4x12-nomask-6225033-short5gram-hsadjp_s1729', 'out-babylm_full_bpe_8k-4x4-mask_e010-5988018', 'out-babylm_full_bpe_8k-4x4-mask_e010-5989083-short5gram', 'out-babylm_full_bpe_8k-4x4-mask_e010-5990491-short5gram', 'out-babylm_full_bpe_8k-4x4-mask_e100-5988019', 'out-babylm_full_bpe_8k-4x4-mask_e100-5989087-short5gram', 'out-babylm_full_bpe_8k-4x4-mask_e100-5990492-short5gram', 'out-babylm_full_bpe_8k-4x4-nomask-1709513018', 'out-babylm_full_bpe_8k-6x12-mask_e100-6076156-short5gram', 'out-babylm_full_bpe_8k-6x12-mask_e100-6155196-short5gram-hsadjp', 'out-babylm_full_bpe_8k-6x12-mask_e100-6156976-short5gram-ffwadjp', 'out-babylm_full_bpe_8k-6x12-mask_e100-6191963-short5gram-hsadjp_s1729', 'out-babylm_full_bpe_8k-6x12-mask_e100-6191971-short5gram-hsadjp_s404', 'out-babylm_full_bpe_8k-6x12-mask_e100-6191975-short5gram-hsadjp_s42', 'out-babylm_full_bpe_8k-6x12-mask_e100-6218378-short5gram-hsadjp_s31415', 'out-babylm_full_bpe_8k-6x12-nomask-6067324-5gramgpt', 'out-babylm_full_bpe_8k-6x12-nomask-6199967-5gramgpt_s42', 'out-babylm_full_bpe_8k-6x12-nomask-6199968-5gramgpt_s1729', 'out-babylm_full_bpe_8k-6x12-nomask-6199969-5gramgpt_s31415', 'out-babylm_full_bpe_8k-6x12-nomask-6199970-5gramgpt_s404', 'out-babylm_full_bpe_8k-6x12-nomask-6200065-short5gram-hsadjp_s42', 'out-babylm_full_bpe_8k-6x12-nomask-6200067-short5gram-hsadjp_s1729', 'out-babylm_full_bpe_8k-6x12-nomask-6200069-short5gram-hsadjp_s404', 'out-babylm_full_bpe_8k-6x12-nomask-6200070-short5gram-hsadjp_s101010', 'out-babylm_full_bpe_8k-6x12-nomask-6225034-short5gram-hsadjp_s31415', 'out-babylm_full_bpe_8k-6x6-mask_-6617787', 'out-babylm_full_bpe_8k-6x6-mask_e002-5734464_s1337', 'out-babylm_full_bpe_8k-6x6-mask_e010-5734465_s1337', 'out-babylm_full_bpe_8k-6x6-mask_e010-5989084-short5gram', 'out-babylm_full_bpe_8k-6x6-mask_e010-5990493-short5gram', 'out-babylm_full_bpe_8k-6x6-mask_e010-6168466_nm', 'out-babylm_full_bpe_8k-6x6-mask_e010-6168468_nm', 'out-babylm_full_bpe_8k-6x6-mask_e010-6168549_nm', 'out-babylm_full_bpe_8k-6x6-mask_e100-5734467_s1337', 'out-babylm_full_bpe_8k-6x6-mask_e100-5989088-short5gram', 'out-babylm_full_bpe_8k-6x6-mask_e100-5990494-short5gram', 'out-babylm_full_bpe_8k-6x6-mask_e100-6168469', 'out-babylm_full_bpe_8k-6x6-mask_e250-5734550', 'out-babylm_full_bpe_8k-6x6-mask_ee001_em01-6810203', 'out-babylm_full_bpe_8k-6x6-mask_ee001_em01-7678383_s42', 'out-babylm_full_bpe_8k-6x6-mask_ee001_em01-7678384_s2347', 'out-babylm_full_bpe_8k-6x6-mask_ee001_em01-7678385_s616', 'out-babylm_full_bpe_8k-6x6-mask_ee001_em01-7678386_s466', 'out-babylm_full_bpe_8k-6x6-mask_ee001_em05-6681891', 'out-babylm_full_bpe_8k-6x6-mask_ee001_em05-6681922', 'out-babylm_full_bpe_8k-6x6-mask_ee001_em05-7678387_s42', 'out-babylm_full_bpe_8k-6x6-mask_ee001_em05-7678388_s2347', 'out-babylm_full_bpe_8k-6x6-mask_ee001_em05-7678389_s616', 'out-babylm_full_bpe_8k-6x6-mask_ee001_em05-7678390_s466', 'out-babylm_full_bpe_8k-6x6-mask_ee001_em10-6681894', 'out-babylm_full_bpe_8k-6x6-mask_ee001_em10-6681939', 'out-babylm_full_bpe_8k-6x6-mask_ee001_em10-7678391_s42', 'out-babylm_full_bpe_8k-6x6-mask_ee001_em10-7678392_s2347', 'out-babylm_full_bpe_8k-6x6-mask_ee001_em10-7678393_s616', 'out-babylm_full_bpe_8k-6x6-mask_ee001_em10-7678394_s466', 'out-babylm_full_bpe_8k-6x6-mask_ee002_em01-6810296', 'out-babylm_full_bpe_8k-6x6-mask_ee002_em01-6839399_s42', 'out-babylm_full_bpe_8k-6x6-mask_ee002_em01-6839404_s2347', 'out-babylm_full_bpe_8k-6x6-mask_ee002_em01-6839405_s9', 'out-babylm_full_bpe_8k-6x6-mask_ee002_em01-6839409_s616', 'out-babylm_full_bpe_8k-6x6-mask_ee002_em01-6839410_s46674', 'out-babylm_full_bpe_8k-6x6-mask_ee002_em01-6839411_s6747', 'out-babylm_full_bpe_8k-6x6-mask_ee002_em01-6839412_s869', 'out-babylm_full_bpe_8k-6x6-mask_ee002_em01-6839413_s466', 'out-babylm_full_bpe_8k-6x6-mask_ee002_em01-6839414_s11111', 'out-babylm_full_bpe_8k-6x6-mask_ee002_em05-6681897', 'out-babylm_full_bpe_8k-6x6-mask_ee002_em05-6681942', 'out-babylm_full_bpe_8k-6x6-mask_ee002_em05-6839402_s42', 'out-babylm_full_bpe_8k-6x6-mask_ee002_em05-6839416_s2347', 'out-babylm_full_bpe_8k-6x6-mask_ee002_em05-6839417_s9', 'out-babylm_full_bpe_8k-6x6-mask_ee002_em05-6839418_s616', 'out-babylm_full_bpe_8k-6x6-mask_ee002_em05-6839419_s46674', 'out-babylm_full_bpe_8k-6x6-mask_ee002_em05-6839420_s6747', 'out-babylm_full_bpe_8k-6x6-mask_ee002_em05-6839421_s869', 'out-babylm_full_bpe_8k-6x6-mask_ee002_em05-6839422_s466', 'out-babylm_full_bpe_8k-6x6-mask_ee002_em05-6839423_s11111', 'out-babylm_full_bpe_8k-6x6-mask_ee002_em10-6681903', 'out-babylm_full_bpe_8k-6x6-mask_ee002_em10-6681944', 'out-babylm_full_bpe_8k-6x6-mask_ee002_em10-6839403_s42', 'out-babylm_full_bpe_8k-6x6-mask_ee002_em10-6839424_s2347', 'out-babylm_full_bpe_8k-6x6-mask_ee002_em10-6839425_s9', 'out-babylm_full_bpe_8k-6x6-mask_ee002_em10-6839426_s616', 'out-babylm_full_bpe_8k-6x6-mask_ee002_em10-6839427_s46674', 'out-babylm_full_bpe_8k-6x6-mask_ee002_em10-6839428_s6747', 'out-babylm_full_bpe_8k-6x6-mask_ee002_em10-6839429_s869', 'out-babylm_full_bpe_8k-6x6-mask_ee002_em10-6839430_s466', 'out-babylm_full_bpe_8k-6x6-mask_ee002_em10-6839431_s11111', 'out-babylm_full_bpe_8k-6x6-mask_ee003_em01-6810297', 'out-babylm_full_bpe_8k-6x6-mask_ee003_em01-7678395_s42', 'out-babylm_full_bpe_8k-6x6-mask_ee003_em01-7678396_s2347', 'out-babylm_full_bpe_8k-6x6-mask_ee003_em01-7678397_s616', 'out-babylm_full_bpe_8k-6x6-mask_ee003_em01-7678398_s466', 'out-babylm_full_bpe_8k-6x6-mask_ee003_em05-6683308', 'out-babylm_full_bpe_8k-6x6-mask_ee003_em05-7678399_s42', 'out-babylm_full_bpe_8k-6x6-mask_ee003_em05-7678400_s2347', 'out-babylm_full_bpe_8k-6x6-mask_ee003_em05-7678401_s616', 'out-babylm_full_bpe_8k-6x6-mask_ee003_em05-7678402_s466', 'out-babylm_full_bpe_8k-6x6-mask_ee003_em10-6683309', 'out-babylm_full_bpe_8k-6x6-mask_ee003_em10-7678403_s42', 'out-babylm_full_bpe_8k-6x6-mask_ee003_em10-7678404_s2347', 'out-babylm_full_bpe_8k-6x6-mask_ee003_em10-7678405_s616', 'out-babylm_full_bpe_8k-6x6-mask_ee003_em10-7678406_s466', 'out-babylm_full_bpe_8k-6x6-mask_ee004_em01-6810325', 'out-babylm_full_bpe_8k-6x6-mask_ee004_em01-7678407_s42', 'out-babylm_full_bpe_8k-6x6-mask_ee004_em01-7678408_s2347', 'out-babylm_full_bpe_8k-6x6-mask_ee004_em01-7678409_s616', 'out-babylm_full_bpe_8k-6x6-mask_ee004_em01-7678410_s466', 'out-babylm_full_bpe_8k-6x6-mask_ee004_em05-6683310', 'out-babylm_full_bpe_8k-6x6-mask_ee004_em05-7678411_s42', 'out-babylm_full_bpe_8k-6x6-mask_ee004_em05-7678412_s2347', 'out-babylm_full_bpe_8k-6x6-mask_ee004_em05-7678413_s616', 'out-babylm_full_bpe_8k-6x6-mask_ee004_em05-7678414_s466', 'out-babylm_full_bpe_8k-6x6-mask_ee004_em10-6683311', 'out-babylm_full_bpe_8k-6x6-mask_ee004_em10-7678415_s42', 'out-babylm_full_bpe_8k-6x6-mask_ee004_em10-7678416_s2347', 'out-babylm_full_bpe_8k-6x6-mask_ee004_em10-7678417_s616', 'out-babylm_full_bpe_8k-6x6-mask_ee004_em10-7678418_s466', 'out-babylm_full_bpe_8k-6x6-mask_ee0p5_em01-6810321', 'out-babylm_full_bpe_8k-6x6-mask_ee0p5_em01-7678419_s42', 'out-babylm_full_bpe_8k-6x6-mask_ee0p5_em01-7678420_s2347', 'out-babylm_full_bpe_8k-6x6-mask_ee0p5_em01-7678421_s616', 'out-babylm_full_bpe_8k-6x6-mask_ee0p5_em01-7678422_s466', 'out-babylm_full_bpe_8k-6x6-mask_ee0p5_em05-6681913', 'out-babylm_full_bpe_8k-6x6-mask_ee0p5_em05-6681945', 'out-babylm_full_bpe_8k-6x6-mask_ee0p5_em05-7678423_s42', 'out-babylm_full_bpe_8k-6x6-mask_ee0p5_em05-7678424_s2347', 'out-babylm_full_bpe_8k-6x6-mask_ee0p5_em05-7678425_s616', 'out-babylm_full_bpe_8k-6x6-mask_ee0p5_em05-7678426_s466', 'out-babylm_full_bpe_8k-6x6-mask_ee0p5_em05-7679909_s2347', 'out-babylm_full_bpe_8k-6x6-mask_ee0p5_em10-6681914', 'out-babylm_full_bpe_8k-6x6-mask_ee0p5_em10-6681946', 'out-babylm_full_bpe_8k-6x6-mask_ee0p5_em10-7678427_s42', 'out-babylm_full_bpe_8k-6x6-mask_ee0p5_em10-7678428_s2347', 'out-babylm_full_bpe_8k-6x6-mask_ee0p5_em10-7678429_s616', 'out-babylm_full_bpe_8k-6x6-mask_ee0p5_em10-7678430_s466', 'out-babylm_full_bpe_8k-6x6-mask_ee2000_em01-6849723', 'out-babylm_full_bpe_8k-6x6-mask_ee2000_em01-6890225', 'out-babylm_full_bpe_8k-6x6-mask_ee2000_em01-6890230', 'out-babylm_full_bpe_8k-6x6-mask_ee2000_em01-6890231', 'out-babylm_full_bpe_8k-6x6-mask_ee2000_em01-6890232', 'out-babylm_full_bpe_8k-6x6-mask_ee2000_em01-6890233', 'out-babylm_full_bpe_8k-6x6-mask_ee2000_em01-6890234', 'out-babylm_full_bpe_8k-6x6-mask_ee2000_em01-6890235', 'out-babylm_full_bpe_8k-6x6-mask_ee2000_em01-6890236', 'out-babylm_full_bpe_8k-6x6-mask_ee2000_em01-6890237', 'out-babylm_full_bpe_8k-6x6-mask_ee2000_em05-6849725', 'out-babylm_full_bpe_8k-6x6-mask_ee2000_em05-6890228', 'out-babylm_full_bpe_8k-6x6-mask_ee2000_em05-6890238', 'out-babylm_full_bpe_8k-6x6-mask_ee2000_em05-6890239', 'out-babylm_full_bpe_8k-6x6-mask_ee2000_em05-6890240', 'out-babylm_full_bpe_8k-6x6-mask_ee2000_em05-6890241', 'out-babylm_full_bpe_8k-6x6-mask_ee2000_em05-6890242', 'out-babylm_full_bpe_8k-6x6-mask_ee2000_em05-6890243', 'out-babylm_full_bpe_8k-6x6-mask_ee2000_em05-6890244', 'out-babylm_full_bpe_8k-6x6-mask_ee2000_em05-6890245', 'out-babylm_full_bpe_8k-6x6-mask_ee2000_em10-6849726', 'out-babylm_full_bpe_8k-6x6-mask_ee2000_em10-6864685', 'out-babylm_full_bpe_8k-6x6-mask_ee2000_em10-6890229', 'out-babylm_full_bpe_8k-6x6-mask_ee2000_em10-6890246', 'out-babylm_full_bpe_8k-6x6-mask_ee2000_em10-6890247', 'out-babylm_full_bpe_8k-6x6-mask_ee2000_em10-6890249', 'out-babylm_full_bpe_8k-6x6-mask_ee2000_em10-6890251', 'out-babylm_full_bpe_8k-6x6-mask_ee2000_em10-6890252', 'out-babylm_full_bpe_8k-6x6-mask_ee2000_em10-6890253', 'out-babylm_full_bpe_8k-6x6-mask_ee2000_em10-6890254', 'out-babylm_full_bpe_8k-6x6-mask_ee2000_em10-6890255', 'out-babylm_full_bpe_8k-6x6-mask_lin-5734459_s1337', 'out-babylm_full_bpe_8k-6x6-mask_lin_em01-6810326', 'out-babylm_full_bpe_8k-6x6-mask_lin_em05-6681893', 'out-babylm_full_bpe_8k-6x6-mask_lin_em05-6681938', 'out-babylm_full_bpe_8k-6x6-mask_lin_em10-6681896', 'out-babylm_full_bpe_8k-6x6-mask_lin_em10-6681941', 'out-babylm_full_bpe_8k-6x6-mask_log001_em01-6810205', 'out-babylm_full_bpe_8k-6x6-mask_log001_em05-6681892', 'out-babylm_full_bpe_8k-6x6-mask_log001_em05-6681937', 'out-babylm_full_bpe_8k-6x6-mask_log001_em10-6681895', 'out-babylm_full_bpe_8k-6x6-mask_log001_em10-6681940', 'out-babylm_full_bpe_8k-6x6-mask_log002_em01-6810320', 'out-babylm_full_bpe_8k-6x6-mask_log002_em05-6681915', 'out-babylm_full_bpe_8k-6x6-mask_log002_em05-6681947', 'out-babylm_full_bpe_8k-6x6-mask_log002_em10-6681916', 'out-babylm_full_bpe_8k-6x6-mask_log002_em10-6681948', 'out-babylm_full_bpe_8k-6x6-mask_log002_em10-6681949', 'out-babylm_full_bpe_8k-6x6-mask_log0p5_em01-6810323', 'out-babylm_full_bpe_8k-6x6-mask_log0p5_em05-6681917', 'out-babylm_full_bpe_8k-6x6-mask_log0p5_em05-6681950', 'out-babylm_full_bpe_8k-6x6-mask_log0p5_em10-6681918', 'out-babylm_full_bpe_8k-6x6-mask_log0p5_em10-6681951', 'out-babylm_full_bpe_8k-6x6-mask_sig001-6486043', 'out-babylm_full_bpe_8k-6x6-mask_sig0p5-6486044', 'out-babylm_full_bpe_8k-6x6-nomask-5496427', 'out-babylm_full_bpe_8k-6x6-nomask-5731965_s17', 'out-babylm_full_bpe_8k-6x6-nomask-5731965_s42', 'out-babylm_full_bpe_8k-6x6-nomask-5731965_s96', 'out-babylm_full_bpe_8k-6x6-nomask-5732034_s404', 'out-babylm_full_bpe_8k-6x6-nomask-5732035_s1729', 'out-babylm_full_bpe_8k-6x6-nomask-5732036_s31415', 'out-babylm_full_bpe_8k-6x6-nomask-5732038_s1234', 'out-babylm_full_bpe_8k-6x6-nomask-5768066-2gramgpt', 'out-babylm_full_bpe_8k-6x6-nomask-5786411-3gramgpt', 'out-babylm_full_bpe_8k-6x6-nomask-5988065-5gramgpt', 'out-babylm_full_bpe_8k-6x6-nomask-6092910-2gramadj', 'out-babylm_full_bpe_8k-6x6-nomask-6092911-3gramadj', 'out-babylm_full_bpe_8k-6x6-nomask-6092912-5gramadj', 'out-babylm_full_bpe_8k-6x6-nomask-6092913-5gramadj', 'out-babylm_full_bpe_8k-6x6-nomask-6092914-5gramadj', 'out-babylm_full_bpe_8k-6x6-nomask-6892212_s42', 'out-babylm_full_bpe_8k-6x6-nomask-6892213_s2347', 'out-babylm_full_bpe_8k-6x6-nomask-6892214_s9', 'out-babylm_full_bpe_8k-6x6-nomask-6892216_s616', 'out-babylm_full_bpe_8k-6x6-nomask-6892217_s46674', 'out-babylm_full_bpe_8k-6x6-nomask-6892218_s6747', 'out-babylm_full_bpe_8k-6x6-nomask-6892219_s869', 'out-babylm_full_bpe_8k-6x6-nomask-6892220_s466', 'out-babylm_full_bpe_8k-6x6-nomask-6892221_s11111', 'out-babylm_full_bpe_8k-6x6-nomask-6892222_s1337', 'out-babylm_full_bpe_8k-6x6-nomask-curr_lin-6603485', 'out-babylm_full_bpe_8k-6x6-nomask-curr_lin-6603567', 'out-babylm_full_bpe_8k-6x6-nomask-curr_lin-6603568', 'out-babylm_full_bpe_8k-6x6-nomask-curr_lin-6603579', 'out-babylm_full_bpe_8k-6x6-nomask-curr_lin-6603580', 'out-babylm_full_bpe_8k-6x6-nomask-curr_lin-6607672', 'out-babylm_full_bpe_8k-6x6-nomask-curr_lin-6607684', 'out-babylm_full_bpe_8k-6x6-nomask-curr_lin-6620547', 'out-babylm_full_bpe_8k-6x6-nomask-curr_lin-6620548', 'out-babylm_full_bpe_8k-6x6-nomask-curr_log-6603553', 'out-babylm_full_bpe_8k-6x6-nomask-curr_log-6603565', 'out-babylm_full_bpe_8k-6x6-nomask-curr_log-6603578', 'out-babylm_full_bpe_8k-6x6-nomask-curr_log-6607670', 'out-babylm_full_bpe_8k-6x6-nomask-curr_log-6616712', 'out-babylm_full_bpe_8k-6x6-nomask-curr_log-6621801', 'out-babylm_full_bpe_8k-6x6-nomask-curr_log-6689751', 'out-babylm_full_bpe_8k-6x6-nomask-curr_log-6689752', 'out-babylm_full_bpe_8k-6x6-nomask-curr_log-6689753', 'out-babylm_full_bpe_8k-6x6-nomask-curr_log-7047459_s42', 'out-babylm_full_bpe_8k-6x6-nomask-curr_log-7047460_s2347', 'out-babylm_full_bpe_8k-6x6-nomask-curr_log-7047461_s9', 'out-babylm_full_bpe_8k-6x6-nomask-curr_log-7047462_s616', 'out-babylm_full_bpe_8k-6x6-nomask-curr_log-7047464_s46674', 'out-babylm_full_bpe_8k-6x6-nomask-curr_log-7047466_s6747', 'out-babylm_full_bpe_8k-6x6-nomask-curr_log-7047467_s869', 'out-babylm_full_bpe_8k-6x6-nomask-curr_log-7047468_s466', 'out-babylm_full_bpe_8k-6x6-nomask-curr_log-7047469_s11111', 'out-babylm_full_bpe_8k-8x8-mask_e010-5988020', 'out-babylm_full_bpe_8k-8x8-mask_e010-5989085-short5gram', 'out-babylm_full_bpe_8k-8x8-mask_e010-5990495-short5gram', 'out-babylm_full_bpe_8k-8x8-mask_e100-5988022', 'out-babylm_full_bpe_8k-8x8-mask_e100-5989090-short5gram', 'out-babylm_full_bpe_8k-8x8-mask_e100-5990496-short5gram', 'out-babylm_full_bpe_8k-8x8-nomask-5496426', 'out-babylm_wocdes_full_bpe-4x4-nomask-5445309', 'out-babylm_wocdes_full_bpe-4x4-nomask-5445338', 'out-wikipedia_bpe-mask_e002', 'out-wikipedia_bpe-mask_e004', 'out-wikipedia_bpe-mask_lin', 'out-wikipedia_bpe-nomask']\n"
     ]
    }
   ],
   "execution_count": 30
  },
  {
   "metadata": {},
   "cell_type": "code",
   "outputs": [],
   "execution_count": null,
   "source": "",
   "id": "50e9c0dd1b3f77e1"
  },
  {
   "metadata": {
    "ExecuteTime": {
     "end_time": "2024-09-09T17:13:44.341926Z",
     "start_time": "2024-09-09T17:13:09.375492Z"
    }
   },
   "cell_type": "code",
   "source": [
    "#Things to test \n",
    " \n",
    "# Given a output dump folder, check if you can see ckpt.pt file exists and if it does, can you read it and print the model parameters\n",
    "\n",
    "#sample_output_dump = 'out-babylm_full_bpe_100M_8k-12x12-nomask-7761451_s1337'\n",
    "sample_output_dump = 'out-babylm_full_bpe_8k-6x6-nomask-6892212_s42'\n",
    "sample_output_dump_path = os.path.join(repo_home_path, output_dir, sample_output_dump)\n",
    "print(\"zeroshot\" in ssh_sftp.listdir(sample_output_dump_path))\n",
    "\n",
    "\n",
    "# o_fl = None\n",
    "# \n",
    "# import tempfile\n",
    "# \n",
    "# with tempfile.NamedTemporaryFile(delete=False) as o_fl:\n",
    "#     if \"zeroshot\" in ssh_sftp.listdir(sample_output_dump_path):\n",
    "#         gb = ssh_sftp.getfo(os.path.join(sample_output_dump_path, \"ckpt.pt\"), o_fl)\n",
    "#         print(gb)\n",
    "#         o_fl.seek(0)\n",
    "#         print(o_fl.name)\n",
    "#         print(o_fl.read())\n",
    "#         \n",
    "#         model_args = load_model_args(o_fl)\n",
    "#         print(model_args)\n",
    "# # if \"zeroshot\" in ssh_sftp.listdir(sample_output_dump_path):\n",
    "# #     gb = ssh_sftp.getfo(os.path.join(sample_output_dump_path, \"ckpt.pt\"), o_fl)\n",
    "# #     print(gb)\n",
    "# \n",
    "\n"
   ],
   "id": "eee638062d4a063b",
   "outputs": [
    {
     "name": "stdout",
     "output_type": "stream",
     "text": [
      "True\n",
      "165551701\n",
      "/tmp/tmpplyux5_9\n"
     ]
    },
    {
     "name": "stderr",
     "output_type": "stream",
     "text": [
      "IOPub data rate exceeded.\n",
      "The Jupyter server will temporarily stop sending output\n",
      "to the client in order to avoid crashing it.\n",
      "To change this limit, set the config variable\n",
      "`--ServerApp.iopub_data_rate_limit`.\n",
      "\n",
      "Current values:\n",
      "ServerApp.iopub_data_rate_limit=1000000.0 (bytes/sec)\n",
      "ServerApp.rate_limit_window=3.0 (secs)\n",
      "\n"
     ]
    },
    {
     "ename": "EOFError",
     "evalue": "Ran out of input",
     "output_type": "error",
     "traceback": [
      "\u001B[0;31m---------------------------------------------------------------------------\u001B[0m",
      "\u001B[0;31mEOFError\u001B[0m                                  Traceback (most recent call last)",
      "Cell \u001B[0;32mIn[49], line 24\u001B[0m\n\u001B[1;32m     21\u001B[0m         \u001B[38;5;28mprint\u001B[39m(o_fl\u001B[38;5;241m.\u001B[39mname)\n\u001B[1;32m     22\u001B[0m         \u001B[38;5;28mprint\u001B[39m(o_fl\u001B[38;5;241m.\u001B[39mread())\n\u001B[0;32m---> 24\u001B[0m         model_args \u001B[38;5;241m=\u001B[39m \u001B[43mload_model_args\u001B[49m\u001B[43m(\u001B[49m\u001B[43mo_fl\u001B[49m\u001B[43m)\u001B[49m\n\u001B[1;32m     25\u001B[0m         \u001B[38;5;28mprint\u001B[39m(model_args)\n\u001B[1;32m     26\u001B[0m \u001B[38;5;66;03m# if \"zeroshot\" in ssh_sftp.listdir(sample_output_dump_path):\u001B[39;00m\n\u001B[1;32m     27\u001B[0m \u001B[38;5;66;03m#     gb = ssh_sftp.getfo(os.path.join(sample_output_dump_path, \"ckpt.pt\"), o_fl)\u001B[39;00m\n\u001B[1;32m     28\u001B[0m \u001B[38;5;66;03m#     print(gb)\u001B[39;00m\n",
      "Cell \u001B[0;32mIn[48], line 6\u001B[0m, in \u001B[0;36mload_model_args\u001B[0;34m(out_fl)\u001B[0m\n\u001B[1;32m      4\u001B[0m \u001B[38;5;28;01mdef\u001B[39;00m \u001B[38;5;21mload_model_args\u001B[39m(out_fl):\n\u001B[1;32m      5\u001B[0m     \u001B[38;5;66;03m#ckpt_path = os.path.join(out_dir, 'ckpt.pt')\u001B[39;00m\n\u001B[0;32m----> 6\u001B[0m     checkpoint \u001B[38;5;241m=\u001B[39m \u001B[43mtorch\u001B[49m\u001B[38;5;241;43m.\u001B[39;49m\u001B[43mload\u001B[49m\u001B[43m(\u001B[49m\u001B[43mout_fl\u001B[49m\u001B[43m,\u001B[49m\u001B[43m \u001B[49m\u001B[43mmap_location\u001B[49m\u001B[38;5;241;43m=\u001B[39;49m\u001B[38;5;124;43m\"\u001B[39;49m\u001B[38;5;124;43mcuda\u001B[39;49m\u001B[38;5;124;43m\"\u001B[39;49m\u001B[43m)\u001B[49m\n\u001B[1;32m      7\u001B[0m     \u001B[38;5;28;01mif\u001B[39;00m checkpoint[\u001B[38;5;124m\"\u001B[39m\u001B[38;5;124mmodel_args\u001B[39m\u001B[38;5;124m\"\u001B[39m]\u001B[38;5;241m.\u001B[39mget(\u001B[38;5;124m\"\u001B[39m\u001B[38;5;124mwm_decay_length\u001B[39m\u001B[38;5;124m\"\u001B[39m, \u001B[38;5;28;01mNone\u001B[39;00m) \u001B[38;5;129;01mis\u001B[39;00m \u001B[38;5;28;01mNone\u001B[39;00m:\n\u001B[1;32m      8\u001B[0m         checkpoint[\u001B[38;5;124m\"\u001B[39m\u001B[38;5;124mmodel_args\u001B[39m\u001B[38;5;124m\"\u001B[39m][\u001B[38;5;124m\"\u001B[39m\u001B[38;5;124mwm_decay_length\u001B[39m\u001B[38;5;124m\"\u001B[39m] \u001B[38;5;241m=\u001B[39m checkpoint[\u001B[38;5;124m\"\u001B[39m\u001B[38;5;124mmodel_args\u001B[39m\u001B[38;5;124m\"\u001B[39m][\u001B[38;5;124m\"\u001B[39m\u001B[38;5;124mblock_size\u001B[39m\u001B[38;5;124m\"\u001B[39m]\n",
      "File \u001B[0;32m~/PycharmProjects/masters_thesis/mt1/lib/python3.9/site-packages/torch/serialization.py:1040\u001B[0m, in \u001B[0;36mload\u001B[0;34m(f, map_location, pickle_module, weights_only, mmap, **pickle_load_args)\u001B[0m\n\u001B[1;32m   1038\u001B[0m     \u001B[38;5;28;01mexcept\u001B[39;00m \u001B[38;5;167;01mRuntimeError\u001B[39;00m \u001B[38;5;28;01mas\u001B[39;00m e:\n\u001B[1;32m   1039\u001B[0m         \u001B[38;5;28;01mraise\u001B[39;00m pickle\u001B[38;5;241m.\u001B[39mUnpicklingError(UNSAFE_MESSAGE \u001B[38;5;241m+\u001B[39m \u001B[38;5;28mstr\u001B[39m(e)) \u001B[38;5;28;01mfrom\u001B[39;00m \u001B[38;5;28;01mNone\u001B[39;00m\n\u001B[0;32m-> 1040\u001B[0m \u001B[38;5;28;01mreturn\u001B[39;00m \u001B[43m_legacy_load\u001B[49m\u001B[43m(\u001B[49m\u001B[43mopened_file\u001B[49m\u001B[43m,\u001B[49m\u001B[43m \u001B[49m\u001B[43mmap_location\u001B[49m\u001B[43m,\u001B[49m\u001B[43m \u001B[49m\u001B[43mpickle_module\u001B[49m\u001B[43m,\u001B[49m\u001B[43m \u001B[49m\u001B[38;5;241;43m*\u001B[39;49m\u001B[38;5;241;43m*\u001B[39;49m\u001B[43mpickle_load_args\u001B[49m\u001B[43m)\u001B[49m\n",
      "File \u001B[0;32m~/PycharmProjects/masters_thesis/mt1/lib/python3.9/site-packages/torch/serialization.py:1258\u001B[0m, in \u001B[0;36m_legacy_load\u001B[0;34m(f, map_location, pickle_module, **pickle_load_args)\u001B[0m\n\u001B[1;32m   1252\u001B[0m \u001B[38;5;28;01mif\u001B[39;00m \u001B[38;5;129;01mnot\u001B[39;00m \u001B[38;5;28mhasattr\u001B[39m(f, \u001B[38;5;124m'\u001B[39m\u001B[38;5;124mreadinto\u001B[39m\u001B[38;5;124m'\u001B[39m) \u001B[38;5;129;01mand\u001B[39;00m (\u001B[38;5;241m3\u001B[39m, \u001B[38;5;241m8\u001B[39m, \u001B[38;5;241m0\u001B[39m) \u001B[38;5;241m<\u001B[39m\u001B[38;5;241m=\u001B[39m sys\u001B[38;5;241m.\u001B[39mversion_info \u001B[38;5;241m<\u001B[39m (\u001B[38;5;241m3\u001B[39m, \u001B[38;5;241m8\u001B[39m, \u001B[38;5;241m2\u001B[39m):\n\u001B[1;32m   1253\u001B[0m     \u001B[38;5;28;01mraise\u001B[39;00m \u001B[38;5;167;01mRuntimeError\u001B[39;00m(\n\u001B[1;32m   1254\u001B[0m         \u001B[38;5;124m\"\u001B[39m\u001B[38;5;124mtorch.load does not work with file-like objects that do not implement readinto on Python 3.8.0 and 3.8.1. \u001B[39m\u001B[38;5;124m\"\u001B[39m\n\u001B[1;32m   1255\u001B[0m         \u001B[38;5;124mf\u001B[39m\u001B[38;5;124m\"\u001B[39m\u001B[38;5;124mReceived object of type \u001B[39m\u001B[38;5;130;01m\\\"\u001B[39;00m\u001B[38;5;132;01m{\u001B[39;00m\u001B[38;5;28mtype\u001B[39m(f)\u001B[38;5;132;01m}\u001B[39;00m\u001B[38;5;130;01m\\\"\u001B[39;00m\u001B[38;5;124m. Please update to Python 3.8.2 or newer to restore this \u001B[39m\u001B[38;5;124m\"\u001B[39m\n\u001B[1;32m   1256\u001B[0m         \u001B[38;5;124m\"\u001B[39m\u001B[38;5;124mfunctionality.\u001B[39m\u001B[38;5;124m\"\u001B[39m)\n\u001B[0;32m-> 1258\u001B[0m magic_number \u001B[38;5;241m=\u001B[39m \u001B[43mpickle_module\u001B[49m\u001B[38;5;241;43m.\u001B[39;49m\u001B[43mload\u001B[49m\u001B[43m(\u001B[49m\u001B[43mf\u001B[49m\u001B[43m,\u001B[49m\u001B[43m \u001B[49m\u001B[38;5;241;43m*\u001B[39;49m\u001B[38;5;241;43m*\u001B[39;49m\u001B[43mpickle_load_args\u001B[49m\u001B[43m)\u001B[49m\n\u001B[1;32m   1259\u001B[0m \u001B[38;5;28;01mif\u001B[39;00m magic_number \u001B[38;5;241m!=\u001B[39m MAGIC_NUMBER:\n\u001B[1;32m   1260\u001B[0m     \u001B[38;5;28;01mraise\u001B[39;00m \u001B[38;5;167;01mRuntimeError\u001B[39;00m(\u001B[38;5;124m\"\u001B[39m\u001B[38;5;124mInvalid magic number; corrupt file?\u001B[39m\u001B[38;5;124m\"\u001B[39m)\n",
      "\u001B[0;31mEOFError\u001B[0m: Ran out of input"
     ]
    }
   ],
   "execution_count": 49
  },
  {
   "metadata": {},
   "cell_type": "code",
   "outputs": [],
   "execution_count": null,
   "source": "",
   "id": "622799511b17e308"
  },
  {
   "metadata": {
    "ExecuteTime": {
     "end_time": "2024-09-09T13:16:09.144101Z",
     "start_time": "2024-09-09T13:16:09.141560Z"
    }
   },
   "cell_type": "code",
   "source": "ssh_client.close()",
   "id": "186218c08f927109",
   "outputs": [],
   "execution_count": 10
  },
  {
   "metadata": {
    "ExecuteTime": {
     "end_time": "2024-09-09T17:15:04.917869Z",
     "start_time": "2024-09-09T17:15:04.915802Z"
    }
   },
   "cell_type": "code",
   "source": "",
   "id": "82dd8694ec56c34f",
   "outputs": [],
   "execution_count": null
  },
  {
   "metadata": {
    "ExecuteTime": {
     "end_time": "2024-09-09T17:14:57.886716Z",
     "start_time": "2024-09-09T17:14:57.884350Z"
    }
   },
   "cell_type": "code",
   "source": "\n",
   "id": "b7571feec092b363",
   "outputs": [],
   "execution_count": 49
  },
  {
   "metadata": {
    "ExecuteTime": {
     "end_time": "2024-09-09T17:14:58.107772Z",
     "start_time": "2024-09-09T17:14:58.105666Z"
    }
   },
   "cell_type": "code",
   "source": "",
   "id": "74ef0207d9356968",
   "outputs": [],
   "execution_count": null
  },
  {
   "metadata": {
    "ExecuteTime": {
     "end_time": "2024-09-09T17:14:58.388791Z",
     "start_time": "2024-09-09T17:14:58.386796Z"
    }
   },
   "cell_type": "code",
   "source": "",
   "id": "ca127422fc468111",
   "outputs": [],
   "execution_count": null
  },
  {
   "metadata": {},
   "cell_type": "code",
   "outputs": [],
   "execution_count": null,
   "source": "",
   "id": "c54210db33c5210"
  }
 ],
 "metadata": {
  "kernelspec": {
   "display_name": "Python 3",
   "language": "python",
   "name": "python3"
  },
  "language_info": {
   "codemirror_mode": {
    "name": "ipython",
    "version": 2
   },
   "file_extension": ".py",
   "mimetype": "text/x-python",
   "name": "python",
   "nbconvert_exporter": "python",
   "pygments_lexer": "ipython2",
   "version": "2.7.6"
  }
 },
 "nbformat": 4,
 "nbformat_minor": 5
}
